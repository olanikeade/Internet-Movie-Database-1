{
  "nbformat": 4,
  "nbformat_minor": 0,
  "metadata": {
    "colab": {
      "provenance": []
    },
    "kernelspec": {
      "name": "python3",
      "display_name": "Python 3"
    },
    "language_info": {
      "name": "python"
    },
    "gpuClass": "standard"
  },
  "cells": [
    {
      "cell_type": "code",
      "execution_count": 2,
      "metadata": {
        "id": "dBUI-5xdiEkc"
      },
      "outputs": [],
      "source": [
        "import requests\n",
        "from bs4 import BeautifulSoup\n",
        "\n",
        "def get_topics_page(url):\n",
        "  response=requests.get(url)\n",
        "  #check successfull response\n",
        "  if response.status_code != 200:\n",
        "    raise Exception (f'Failed to load page{topic_url}')\n",
        "  #parse using BeautifulSoup\n",
        "  doc = BeautifulSoup(response.text,'html.parser')\n",
        "  return doc"
      ]
    },
    {
      "cell_type": "code",
      "source": [
        "topic_url =  'https://www.imdb.com/search/title/?groups=top_1000&sort=user_rating,desc&count=100&start=000&ref_=adv_next'\n",
        "doc = get_topics_page(topic_url)\n",
        "doc.find('title')"
      ],
      "metadata": {
        "colab": {
          "base_uri": "https://localhost:8080/"
        },
        "id": "nf9cvmnYvxBK",
        "outputId": "c9d917ac-844c-45d4-ffab-4c38c246de7b"
      },
      "execution_count": 3,
      "outputs": [
        {
          "output_type": "execute_result",
          "data": {
            "text/plain": [
              "<title>IMDb \"Top 1000\"\n",
              "(Sorted by IMDb Rating Descending) - IMDb</title>"
            ]
          },
          "metadata": {},
          "execution_count": 3
        }
      ]
    },
    {
      "cell_type": "code",
      "source": [
        "def get_movie_titles(doc):\n",
        "    \n",
        "    selection_class=\"lister-item-header\"\n",
        "    movie_title_tags=doc.find_all('h3',{'class':selection_class})\n",
        "    movie_titles=[]\n",
        "\n",
        "    for tag in movie_title_tags:\n",
        "        title = tag.find('a').text\n",
        "        movie_titles.append(title)\n",
        "        \n",
        "        \n",
        "    return movie_titles"
      ],
      "metadata": {
        "id": "zo6W2sToygS7"
      },
      "execution_count": 4,
      "outputs": []
    },
    {
      "cell_type": "code",
      "source": [
        "titles = get_movie_titles(doc)"
      ],
      "metadata": {
        "id": "K5U9MBz0y1Yg"
      },
      "execution_count": 5,
      "outputs": []
    },
    {
      "cell_type": "code",
      "source": [
        "titles[:5]"
      ],
      "metadata": {
        "colab": {
          "base_uri": "https://localhost:8080/"
        },
        "id": "zCRcK0CXy-NK",
        "outputId": "75b0e028-f45e-40d1-ade2-432c3fb0b2a5"
      },
      "execution_count": 6,
      "outputs": [
        {
          "output_type": "execute_result",
          "data": {
            "text/plain": [
              "['The Shawshank Redemption',\n",
              " 'The Godfather',\n",
              " 'The Dark Knight',\n",
              " 'The Lord of the Rings: The Return of the King',\n",
              " \"Schindler's List\"]"
            ]
          },
          "metadata": {},
          "execution_count": 6
        }
      ]
    },
    {
      "cell_type": "code",
      "source": [
        "#Similarly I defined functions for movie url, ratings, certification, duration and  year\n",
        "def get_movie_url(doc):\n",
        "    url_selector=\"lister-item-header\"           \n",
        "    movie_url_tags=doc.find_all('h3',{'class':url_selector})\n",
        "    movie_url_tagss=[]\n",
        "    base_url = 'https://www.imdb.com/'\n",
        "    for tag in movie_url_tags:\n",
        "        movie_url_tagss.append('https://www.imdb.com/' + tag.find('a')['href'])\n",
        "    return movie_url_tagss"
      ],
      "metadata": {
        "id": "-a1689KEzOIW"
      },
      "execution_count": 7,
      "outputs": []
    },
    {
      "cell_type": "code",
      "source": [
        "urls = get_movie_url(doc)"
      ],
      "metadata": {
        "id": "WbBSpqHEzzoK"
      },
      "execution_count": 8,
      "outputs": []
    },
    {
      "cell_type": "code",
      "source": [
        "urls[:5]"
      ],
      "metadata": {
        "colab": {
          "base_uri": "https://localhost:8080/"
        },
        "id": "OV_sF7Llz3EG",
        "outputId": "05226afa-71a9-411a-d6df-8d7e29dec4a4"
      },
      "execution_count": 9,
      "outputs": [
        {
          "output_type": "execute_result",
          "data": {
            "text/plain": [
              "['https://www.imdb.com//title/tt0111161/',\n",
              " 'https://www.imdb.com//title/tt0068646/',\n",
              " 'https://www.imdb.com//title/tt0468569/',\n",
              " 'https://www.imdb.com//title/tt0167260/',\n",
              " 'https://www.imdb.com//title/tt0108052/']"
            ]
          },
          "metadata": {},
          "execution_count": 9
        }
      ]
    },
    {
      "cell_type": "code",
      "source": [
        "def get_movie_duration(doc):\n",
        "    \n",
        "    selection_class=\"runtime\"\n",
        "    movie_duration_tags=doc.find_all('span',{'class':selection_class})\n",
        "    movie_duration=[]\n",
        "\n",
        "    for tag in movie_duration_tags:\n",
        "        duration = tag.text[:-4]\n",
        "        movie_duration.append(duration)\n",
        "        \n",
        "        \n",
        "    return movie_duration"
      ],
      "metadata": {
        "id": "J4v2dYVi0Awh"
      },
      "execution_count": 10,
      "outputs": []
    },
    {
      "cell_type": "code",
      "source": [
        "durations = get_movie_duration(doc)"
      ],
      "metadata": {
        "id": "3py_5n8l0crm"
      },
      "execution_count": 11,
      "outputs": []
    },
    {
      "cell_type": "code",
      "source": [
        "durations[:5]"
      ],
      "metadata": {
        "colab": {
          "base_uri": "https://localhost:8080/"
        },
        "id": "ZVyyHwxv0f1C",
        "outputId": "72fe96fd-e199-46fc-9e4f-4cf313d5e039"
      },
      "execution_count": 12,
      "outputs": [
        {
          "output_type": "execute_result",
          "data": {
            "text/plain": [
              "['142', '175', '152', '201', '195']"
            ]
          },
          "metadata": {},
          "execution_count": 12
        }
      ]
    },
    {
      "cell_type": "code",
      "source": [
        "def get_movie_certification(doc):\n",
        "    \n",
        "    selection_class=\"lister-item-content\"\n",
        "    movie_details_tags = doc.find_all('div',{'class':selection_class})\n",
        "    movie_certification=[]\n",
        "    \n",
        "\n",
        "    for detail_tag in movie_details_tags:\n",
        "        \n",
        "        certification_tag = detail_tag.find('span',{'class':'certificate'})\n",
        "        if certification_tag:\n",
        "            movie_certification.append(certification_tag.text)\n",
        "        else:\n",
        "            movie_certification.append('NA')                                                           \n",
        "        \n",
        "    return movie_certification"
      ],
      "metadata": {
        "id": "2F17urlC0qct"
      },
      "execution_count": 13,
      "outputs": []
    },
    {
      "cell_type": "code",
      "source": [
        "certifications = get_movie_certification(doc)"
      ],
      "metadata": {
        "id": "6mPjLRS9070i"
      },
      "execution_count": 14,
      "outputs": []
    },
    {
      "cell_type": "code",
      "source": [
        "certifications[:5]"
      ],
      "metadata": {
        "colab": {
          "base_uri": "https://localhost:8080/"
        },
        "id": "Y2F-K_DB1A8Y",
        "outputId": "e89fcc30-6262-4d81-b8af-9e5acd153f68"
      },
      "execution_count": 15,
      "outputs": [
        {
          "output_type": "execute_result",
          "data": {
            "text/plain": [
              "['R', 'R', 'PG-13', 'PG-13', 'R']"
            ]
          },
          "metadata": {},
          "execution_count": 15
        }
      ]
    },
    {
      "cell_type": "code",
      "source": [
        "def get_movie_year(doc):\n",
        "    year_selector = \"lister-item-year text-muted unbold\"           \n",
        "    movie_year_tags=doc.find_all('span',{'class':year_selector})\n",
        "    movie_year_tagss=[]\n",
        "    for tag in movie_year_tags:\n",
        "        movie_year_tagss.append(tag.get_text().strip()[1:5])\n",
        "    return movie_year_tagss"
      ],
      "metadata": {
        "id": "ucUE2cdZ1Qel"
      },
      "execution_count": 16,
      "outputs": []
    },
    {
      "cell_type": "code",
      "source": [
        "years = get_movie_year(doc)"
      ],
      "metadata": {
        "id": "uiThBXGJ1T1Y"
      },
      "execution_count": 17,
      "outputs": []
    },
    {
      "cell_type": "code",
      "source": [
        "years[:5]"
      ],
      "metadata": {
        "colab": {
          "base_uri": "https://localhost:8080/"
        },
        "id": "4ndmoMuf1YAn",
        "outputId": "d6a62520-efc8-4958-e09e-1d841cc9a06f"
      },
      "execution_count": 18,
      "outputs": [
        {
          "output_type": "execute_result",
          "data": {
            "text/plain": [
              "['1994', '1972', '2008', '2003', '1993']"
            ]
          },
          "metadata": {},
          "execution_count": 18
        }
      ]
    },
    {
      "cell_type": "code",
      "source": [
        "def get_movie_genre(doc):\n",
        "    genre_selector=\"genre\"            \n",
        "    movie_genre_tags=doc.find_all('span',{'class':genre_selector})\n",
        "    movie_genre_tagss=[]\n",
        "    for tag in movie_genre_tags:\n",
        "        movie_genre_tagss.append(tag.get_text().strip())\n",
        "    return movie_genre_tagss"
      ],
      "metadata": {
        "id": "cce4AzbO1cA5"
      },
      "execution_count": 19,
      "outputs": []
    },
    {
      "cell_type": "code",
      "source": [
        "genres = get_movie_genre(doc)"
      ],
      "metadata": {
        "id": "Pw076gO_1oTw"
      },
      "execution_count": 20,
      "outputs": []
    },
    {
      "cell_type": "code",
      "source": [
        "genres[:5]"
      ],
      "metadata": {
        "colab": {
          "base_uri": "https://localhost:8080/"
        },
        "id": "j9vIlI-C1sf6",
        "outputId": "c2dd24dd-100c-423f-8d56-a7e0dcc20647"
      },
      "execution_count": 21,
      "outputs": [
        {
          "output_type": "execute_result",
          "data": {
            "text/plain": [
              "['Drama',\n",
              " 'Crime, Drama',\n",
              " 'Action, Crime, Drama',\n",
              " 'Action, Adventure, Drama',\n",
              " 'Biography, Drama, History']"
            ]
          },
          "metadata": {},
          "execution_count": 21
        }
      ]
    },
    {
      "cell_type": "code",
      "source": [
        "def get_movie_rating(doc):\n",
        "    rating_selector=\"inline-block ratings-imdb-rating\"            \n",
        "    movie_rating_tags=doc.find_all('div',{'class':rating_selector})\n",
        "    movie_rating_tagss=[]\n",
        "    for tag in movie_rating_tags:\n",
        "        movie_rating_tagss.append(tag.get_text().strip())\n",
        "    return movie_rating_tagss"
      ],
      "metadata": {
        "id": "6JE9VP6m2C-o"
      },
      "execution_count": 22,
      "outputs": []
    },
    {
      "cell_type": "code",
      "source": [
        "ratings = get_movie_rating(doc)"
      ],
      "metadata": {
        "id": "JJvzahl92GC4"
      },
      "execution_count": 23,
      "outputs": []
    },
    {
      "cell_type": "code",
      "source": [
        "ratings[:5]"
      ],
      "metadata": {
        "colab": {
          "base_uri": "https://localhost:8080/"
        },
        "id": "8O0-CWXb2IMU",
        "outputId": "84d36a20-cd2c-459e-8f70-910d137b8b03"
      },
      "execution_count": 24,
      "outputs": [
        {
          "output_type": "execute_result",
          "data": {
            "text/plain": [
              "['9.3', '9.2', '9.0', '9.0', '9.0']"
            ]
          },
          "metadata": {},
          "execution_count": 24
        }
      ]
    },
    {
      "cell_type": "code",
      "source": [
        "import pandas as pd\n",
        "def all_pages(num=10):\n",
        "#Create a dictionary to store data of all movies\n",
        "    movies_dict={\n",
        "        'titles':[],\n",
        "        'genre':[],\n",
        "        'duration':[],\n",
        "        'rating':[],\n",
        "        'year':[],\n",
        "        'certification':[],\n",
        "        'url':[]\n",
        "    }\n",
        "  # I have to scrap more than one page so I want urls of all pages with the help of loop we can get all urls\n",
        "    for i in range(1,num*110,100):\n",
        "       \n",
        "        url = 'https://www.imdb.com/search/title/?groups=top_1000&sort=user_rating,desc&count=100&start='+str(i)+'&ref_=adv_next'\n",
        "        doc = get_topics_page(url)\n",
        "   \n",
        "        \n",
        "        movies_dict['titles'] += get_movie_titles(doc)\n",
        "        movies_dict['url'] += get_movie_url(doc)\n",
        "        movies_dict['certification'] += get_movie_certification(doc)\n",
        "        movies_dict['rating'] += get_movie_rating(doc)\n",
        "        movies_dict['duration'] += get_movie_duration(doc)\n",
        "        movies_dict['year'] += get_movie_year(doc)\n",
        "        movies_dict['genre'] += get_movie_genre(doc)   \n",
        "        \n",
        "    return pd.DataFrame(movies_dict)"
      ],
      "metadata": {
        "id": "cKsGmiC22TaB"
      },
      "execution_count": 25,
      "outputs": []
    },
    {
      "cell_type": "code",
      "source": [
        "movies = all_pages()"
      ],
      "metadata": {
        "id": "T85fLm-P2k67"
      },
      "execution_count": 26,
      "outputs": []
    },
    {
      "cell_type": "code",
      "source": [
        "movies.to_csv('movies.csv',index=None)"
      ],
      "metadata": {
        "id": "W1vwWMoL2ru5"
      },
      "execution_count": 27,
      "outputs": []
    },
    {
      "cell_type": "code",
      "source": [
        "df = pd.read_csv('movies.csv')\n",
        "df.head()"
      ],
      "metadata": {
        "colab": {
          "base_uri": "https://localhost:8080/",
          "height": 206
        },
        "id": "JiLU7BeK3H4X",
        "outputId": "a09eb1ec-8377-4733-923c-d7852270feb0"
      },
      "execution_count": 28,
      "outputs": [
        {
          "output_type": "execute_result",
          "data": {
            "text/plain": [
              "                                          titles                      genre  \\\n",
              "0                       The Shawshank Redemption                      Drama   \n",
              "1                                  The Godfather               Crime, Drama   \n",
              "2                                The Dark Knight       Action, Crime, Drama   \n",
              "3  The Lord of the Rings: The Return of the King   Action, Adventure, Drama   \n",
              "4                               Schindler's List  Biography, Drama, History   \n",
              "\n",
              "   duration  rating  year certification  \\\n",
              "0       142     9.3  1994             R   \n",
              "1       175     9.2  1972             R   \n",
              "2       152     9.0  2008         PG-13   \n",
              "3       201     9.0  2003         PG-13   \n",
              "4       195     9.0  1993             R   \n",
              "\n",
              "                                      url  \n",
              "0  https://www.imdb.com//title/tt0111161/  \n",
              "1  https://www.imdb.com//title/tt0068646/  \n",
              "2  https://www.imdb.com//title/tt0468569/  \n",
              "3  https://www.imdb.com//title/tt0167260/  \n",
              "4  https://www.imdb.com//title/tt0108052/  "
            ],
            "text/html": [
              "\n",
              "  <div id=\"df-bf771fab-cf1a-4768-b0bd-662a81e1578f\">\n",
              "    <div class=\"colab-df-container\">\n",
              "      <div>\n",
              "<style scoped>\n",
              "    .dataframe tbody tr th:only-of-type {\n",
              "        vertical-align: middle;\n",
              "    }\n",
              "\n",
              "    .dataframe tbody tr th {\n",
              "        vertical-align: top;\n",
              "    }\n",
              "\n",
              "    .dataframe thead th {\n",
              "        text-align: right;\n",
              "    }\n",
              "</style>\n",
              "<table border=\"1\" class=\"dataframe\">\n",
              "  <thead>\n",
              "    <tr style=\"text-align: right;\">\n",
              "      <th></th>\n",
              "      <th>titles</th>\n",
              "      <th>genre</th>\n",
              "      <th>duration</th>\n",
              "      <th>rating</th>\n",
              "      <th>year</th>\n",
              "      <th>certification</th>\n",
              "      <th>url</th>\n",
              "    </tr>\n",
              "  </thead>\n",
              "  <tbody>\n",
              "    <tr>\n",
              "      <th>0</th>\n",
              "      <td>The Shawshank Redemption</td>\n",
              "      <td>Drama</td>\n",
              "      <td>142</td>\n",
              "      <td>9.3</td>\n",
              "      <td>1994</td>\n",
              "      <td>R</td>\n",
              "      <td>https://www.imdb.com//title/tt0111161/</td>\n",
              "    </tr>\n",
              "    <tr>\n",
              "      <th>1</th>\n",
              "      <td>The Godfather</td>\n",
              "      <td>Crime, Drama</td>\n",
              "      <td>175</td>\n",
              "      <td>9.2</td>\n",
              "      <td>1972</td>\n",
              "      <td>R</td>\n",
              "      <td>https://www.imdb.com//title/tt0068646/</td>\n",
              "    </tr>\n",
              "    <tr>\n",
              "      <th>2</th>\n",
              "      <td>The Dark Knight</td>\n",
              "      <td>Action, Crime, Drama</td>\n",
              "      <td>152</td>\n",
              "      <td>9.0</td>\n",
              "      <td>2008</td>\n",
              "      <td>PG-13</td>\n",
              "      <td>https://www.imdb.com//title/tt0468569/</td>\n",
              "    </tr>\n",
              "    <tr>\n",
              "      <th>3</th>\n",
              "      <td>The Lord of the Rings: The Return of the King</td>\n",
              "      <td>Action, Adventure, Drama</td>\n",
              "      <td>201</td>\n",
              "      <td>9.0</td>\n",
              "      <td>2003</td>\n",
              "      <td>PG-13</td>\n",
              "      <td>https://www.imdb.com//title/tt0167260/</td>\n",
              "    </tr>\n",
              "    <tr>\n",
              "      <th>4</th>\n",
              "      <td>Schindler's List</td>\n",
              "      <td>Biography, Drama, History</td>\n",
              "      <td>195</td>\n",
              "      <td>9.0</td>\n",
              "      <td>1993</td>\n",
              "      <td>R</td>\n",
              "      <td>https://www.imdb.com//title/tt0108052/</td>\n",
              "    </tr>\n",
              "  </tbody>\n",
              "</table>\n",
              "</div>\n",
              "      <button class=\"colab-df-convert\" onclick=\"convertToInteractive('df-bf771fab-cf1a-4768-b0bd-662a81e1578f')\"\n",
              "              title=\"Convert this dataframe to an interactive table.\"\n",
              "              style=\"display:none;\">\n",
              "        \n",
              "  <svg xmlns=\"http://www.w3.org/2000/svg\" height=\"24px\"viewBox=\"0 0 24 24\"\n",
              "       width=\"24px\">\n",
              "    <path d=\"M0 0h24v24H0V0z\" fill=\"none\"/>\n",
              "    <path d=\"M18.56 5.44l.94 2.06.94-2.06 2.06-.94-2.06-.94-.94-2.06-.94 2.06-2.06.94zm-11 1L8.5 8.5l.94-2.06 2.06-.94-2.06-.94L8.5 2.5l-.94 2.06-2.06.94zm10 10l.94 2.06.94-2.06 2.06-.94-2.06-.94-.94-2.06-.94 2.06-2.06.94z\"/><path d=\"M17.41 7.96l-1.37-1.37c-.4-.4-.92-.59-1.43-.59-.52 0-1.04.2-1.43.59L10.3 9.45l-7.72 7.72c-.78.78-.78 2.05 0 2.83L4 21.41c.39.39.9.59 1.41.59.51 0 1.02-.2 1.41-.59l7.78-7.78 2.81-2.81c.8-.78.8-2.07 0-2.86zM5.41 20L4 18.59l7.72-7.72 1.47 1.35L5.41 20z\"/>\n",
              "  </svg>\n",
              "      </button>\n",
              "      \n",
              "  <style>\n",
              "    .colab-df-container {\n",
              "      display:flex;\n",
              "      flex-wrap:wrap;\n",
              "      gap: 12px;\n",
              "    }\n",
              "\n",
              "    .colab-df-convert {\n",
              "      background-color: #E8F0FE;\n",
              "      border: none;\n",
              "      border-radius: 50%;\n",
              "      cursor: pointer;\n",
              "      display: none;\n",
              "      fill: #1967D2;\n",
              "      height: 32px;\n",
              "      padding: 0 0 0 0;\n",
              "      width: 32px;\n",
              "    }\n",
              "\n",
              "    .colab-df-convert:hover {\n",
              "      background-color: #E2EBFA;\n",
              "      box-shadow: 0px 1px 2px rgba(60, 64, 67, 0.3), 0px 1px 3px 1px rgba(60, 64, 67, 0.15);\n",
              "      fill: #174EA6;\n",
              "    }\n",
              "\n",
              "    [theme=dark] .colab-df-convert {\n",
              "      background-color: #3B4455;\n",
              "      fill: #D2E3FC;\n",
              "    }\n",
              "\n",
              "    [theme=dark] .colab-df-convert:hover {\n",
              "      background-color: #434B5C;\n",
              "      box-shadow: 0px 1px 3px 1px rgba(0, 0, 0, 0.15);\n",
              "      filter: drop-shadow(0px 1px 2px rgba(0, 0, 0, 0.3));\n",
              "      fill: #FFFFFF;\n",
              "    }\n",
              "  </style>\n",
              "\n",
              "      <script>\n",
              "        const buttonEl =\n",
              "          document.querySelector('#df-bf771fab-cf1a-4768-b0bd-662a81e1578f button.colab-df-convert');\n",
              "        buttonEl.style.display =\n",
              "          google.colab.kernel.accessAllowed ? 'block' : 'none';\n",
              "\n",
              "        async function convertToInteractive(key) {\n",
              "          const element = document.querySelector('#df-bf771fab-cf1a-4768-b0bd-662a81e1578f');\n",
              "          const dataTable =\n",
              "            await google.colab.kernel.invokeFunction('convertToInteractive',\n",
              "                                                     [key], {});\n",
              "          if (!dataTable) return;\n",
              "\n",
              "          const docLinkHtml = 'Like what you see? Visit the ' +\n",
              "            '<a target=\"_blank\" href=https://colab.research.google.com/notebooks/data_table.ipynb>data table notebook</a>'\n",
              "            + ' to learn more about interactive tables.';\n",
              "          element.innerHTML = '';\n",
              "          dataTable['output_type'] = 'display_data';\n",
              "          await google.colab.output.renderOutput(dataTable, element);\n",
              "          const docLink = document.createElement('div');\n",
              "          docLink.innerHTML = docLinkHtml;\n",
              "          element.appendChild(docLink);\n",
              "        }\n",
              "      </script>\n",
              "    </div>\n",
              "  </div>\n",
              "  "
            ]
          },
          "metadata": {},
          "execution_count": 28
        }
      ]
    },
    {
      "cell_type": "code",
      "source": [
        "df.shape"
      ],
      "metadata": {
        "colab": {
          "base_uri": "https://localhost:8080/"
        },
        "id": "mpItXc6oufKj",
        "outputId": "bbfe4f17-a9f4-4a73-f143-4a92e5e83b2a"
      },
      "execution_count": 29,
      "outputs": [
        {
          "output_type": "execute_result",
          "data": {
            "text/plain": [
              "(1000, 7)"
            ]
          },
          "metadata": {},
          "execution_count": 29
        }
      ]
    },
    {
      "cell_type": "code",
      "source": [
        "df.info()"
      ],
      "metadata": {
        "colab": {
          "base_uri": "https://localhost:8080/"
        },
        "id": "RLln3IjNurtz",
        "outputId": "4f1ffb7c-ac14-4e8e-b922-68834b62eba5"
      },
      "execution_count": 30,
      "outputs": [
        {
          "output_type": "stream",
          "name": "stdout",
          "text": [
            "<class 'pandas.core.frame.DataFrame'>\n",
            "RangeIndex: 1000 entries, 0 to 999\n",
            "Data columns (total 7 columns):\n",
            " #   Column         Non-Null Count  Dtype  \n",
            "---  ------         --------------  -----  \n",
            " 0   titles         1000 non-null   object \n",
            " 1   genre          1000 non-null   object \n",
            " 2   duration       1000 non-null   int64  \n",
            " 3   rating         1000 non-null   float64\n",
            " 4   year           1000 non-null   object \n",
            " 5   certification  984 non-null    object \n",
            " 6   url            1000 non-null   object \n",
            "dtypes: float64(1), int64(1), object(5)\n",
            "memory usage: 54.8+ KB\n"
          ]
        }
      ]
    },
    {
      "cell_type": "code",
      "source": [
        "df.isnull().sum()"
      ],
      "metadata": {
        "colab": {
          "base_uri": "https://localhost:8080/"
        },
        "id": "XgjCuQNb7mge",
        "outputId": "19b6a20a-ec7b-4cb4-84f6-a4b8f4d52d1a"
      },
      "execution_count": 31,
      "outputs": [
        {
          "output_type": "execute_result",
          "data": {
            "text/plain": [
              "titles            0\n",
              "genre             0\n",
              "duration          0\n",
              "rating            0\n",
              "year              0\n",
              "certification    16\n",
              "url               0\n",
              "dtype: int64"
            ]
          },
          "metadata": {},
          "execution_count": 31
        }
      ]
    },
    {
      "cell_type": "code",
      "source": [
        "df.dropna()"
      ],
      "metadata": {
        "colab": {
          "base_uri": "https://localhost:8080/",
          "height": 468
        },
        "id": "vMEMgIok78pw",
        "outputId": "fc5a685a-e22f-46ea-c99c-7f00465291f3"
      },
      "execution_count": 32,
      "outputs": [
        {
          "output_type": "execute_result",
          "data": {
            "text/plain": [
              "                                            titles  \\\n",
              "0                         The Shawshank Redemption   \n",
              "1                                    The Godfather   \n",
              "2                                  The Dark Knight   \n",
              "3    The Lord of the Rings: The Return of the King   \n",
              "4                                 Schindler's List   \n",
              "..                                             ...   \n",
              "995                                        Sabrina   \n",
              "996                          From Here to Eternity   \n",
              "997                Snow White and the Seven Dwarfs   \n",
              "998                                   The 39 Steps   \n",
              "999                              The Invisible Man   \n",
              "\n",
              "                            genre  duration  rating  year certification  \\\n",
              "0                           Drama       142     9.3  1994             R   \n",
              "1                    Crime, Drama       175     9.2  1972             R   \n",
              "2            Action, Crime, Drama       152     9.0  2008         PG-13   \n",
              "3        Action, Adventure, Drama       201     9.0  2003         PG-13   \n",
              "4       Biography, Drama, History       195     9.0  1993             R   \n",
              "..                            ...       ...     ...   ...           ...   \n",
              "995        Comedy, Drama, Romance       113     7.6  1954        Passed   \n",
              "996           Drama, Romance, War       118     7.6  1953        Passed   \n",
              "997  Animation, Adventure, Family        83     7.6  1937      Approved   \n",
              "998      Crime, Mystery, Thriller        86     7.6  1935      Approved   \n",
              "999                Horror, Sci-Fi        71     7.6  1933         TV-PG   \n",
              "\n",
              "                                        url  \n",
              "0    https://www.imdb.com//title/tt0111161/  \n",
              "1    https://www.imdb.com//title/tt0068646/  \n",
              "2    https://www.imdb.com//title/tt0468569/  \n",
              "3    https://www.imdb.com//title/tt0167260/  \n",
              "4    https://www.imdb.com//title/tt0108052/  \n",
              "..                                      ...  \n",
              "995  https://www.imdb.com//title/tt0047437/  \n",
              "996  https://www.imdb.com//title/tt0045793/  \n",
              "997  https://www.imdb.com//title/tt0029583/  \n",
              "998  https://www.imdb.com//title/tt0026029/  \n",
              "999  https://www.imdb.com//title/tt0024184/  \n",
              "\n",
              "[984 rows x 7 columns]"
            ],
            "text/html": [
              "\n",
              "  <div id=\"df-de682d9f-7015-4e72-9084-bbb0280e5689\">\n",
              "    <div class=\"colab-df-container\">\n",
              "      <div>\n",
              "<style scoped>\n",
              "    .dataframe tbody tr th:only-of-type {\n",
              "        vertical-align: middle;\n",
              "    }\n",
              "\n",
              "    .dataframe tbody tr th {\n",
              "        vertical-align: top;\n",
              "    }\n",
              "\n",
              "    .dataframe thead th {\n",
              "        text-align: right;\n",
              "    }\n",
              "</style>\n",
              "<table border=\"1\" class=\"dataframe\">\n",
              "  <thead>\n",
              "    <tr style=\"text-align: right;\">\n",
              "      <th></th>\n",
              "      <th>titles</th>\n",
              "      <th>genre</th>\n",
              "      <th>duration</th>\n",
              "      <th>rating</th>\n",
              "      <th>year</th>\n",
              "      <th>certification</th>\n",
              "      <th>url</th>\n",
              "    </tr>\n",
              "  </thead>\n",
              "  <tbody>\n",
              "    <tr>\n",
              "      <th>0</th>\n",
              "      <td>The Shawshank Redemption</td>\n",
              "      <td>Drama</td>\n",
              "      <td>142</td>\n",
              "      <td>9.3</td>\n",
              "      <td>1994</td>\n",
              "      <td>R</td>\n",
              "      <td>https://www.imdb.com//title/tt0111161/</td>\n",
              "    </tr>\n",
              "    <tr>\n",
              "      <th>1</th>\n",
              "      <td>The Godfather</td>\n",
              "      <td>Crime, Drama</td>\n",
              "      <td>175</td>\n",
              "      <td>9.2</td>\n",
              "      <td>1972</td>\n",
              "      <td>R</td>\n",
              "      <td>https://www.imdb.com//title/tt0068646/</td>\n",
              "    </tr>\n",
              "    <tr>\n",
              "      <th>2</th>\n",
              "      <td>The Dark Knight</td>\n",
              "      <td>Action, Crime, Drama</td>\n",
              "      <td>152</td>\n",
              "      <td>9.0</td>\n",
              "      <td>2008</td>\n",
              "      <td>PG-13</td>\n",
              "      <td>https://www.imdb.com//title/tt0468569/</td>\n",
              "    </tr>\n",
              "    <tr>\n",
              "      <th>3</th>\n",
              "      <td>The Lord of the Rings: The Return of the King</td>\n",
              "      <td>Action, Adventure, Drama</td>\n",
              "      <td>201</td>\n",
              "      <td>9.0</td>\n",
              "      <td>2003</td>\n",
              "      <td>PG-13</td>\n",
              "      <td>https://www.imdb.com//title/tt0167260/</td>\n",
              "    </tr>\n",
              "    <tr>\n",
              "      <th>4</th>\n",
              "      <td>Schindler's List</td>\n",
              "      <td>Biography, Drama, History</td>\n",
              "      <td>195</td>\n",
              "      <td>9.0</td>\n",
              "      <td>1993</td>\n",
              "      <td>R</td>\n",
              "      <td>https://www.imdb.com//title/tt0108052/</td>\n",
              "    </tr>\n",
              "    <tr>\n",
              "      <th>...</th>\n",
              "      <td>...</td>\n",
              "      <td>...</td>\n",
              "      <td>...</td>\n",
              "      <td>...</td>\n",
              "      <td>...</td>\n",
              "      <td>...</td>\n",
              "      <td>...</td>\n",
              "    </tr>\n",
              "    <tr>\n",
              "      <th>995</th>\n",
              "      <td>Sabrina</td>\n",
              "      <td>Comedy, Drama, Romance</td>\n",
              "      <td>113</td>\n",
              "      <td>7.6</td>\n",
              "      <td>1954</td>\n",
              "      <td>Passed</td>\n",
              "      <td>https://www.imdb.com//title/tt0047437/</td>\n",
              "    </tr>\n",
              "    <tr>\n",
              "      <th>996</th>\n",
              "      <td>From Here to Eternity</td>\n",
              "      <td>Drama, Romance, War</td>\n",
              "      <td>118</td>\n",
              "      <td>7.6</td>\n",
              "      <td>1953</td>\n",
              "      <td>Passed</td>\n",
              "      <td>https://www.imdb.com//title/tt0045793/</td>\n",
              "    </tr>\n",
              "    <tr>\n",
              "      <th>997</th>\n",
              "      <td>Snow White and the Seven Dwarfs</td>\n",
              "      <td>Animation, Adventure, Family</td>\n",
              "      <td>83</td>\n",
              "      <td>7.6</td>\n",
              "      <td>1937</td>\n",
              "      <td>Approved</td>\n",
              "      <td>https://www.imdb.com//title/tt0029583/</td>\n",
              "    </tr>\n",
              "    <tr>\n",
              "      <th>998</th>\n",
              "      <td>The 39 Steps</td>\n",
              "      <td>Crime, Mystery, Thriller</td>\n",
              "      <td>86</td>\n",
              "      <td>7.6</td>\n",
              "      <td>1935</td>\n",
              "      <td>Approved</td>\n",
              "      <td>https://www.imdb.com//title/tt0026029/</td>\n",
              "    </tr>\n",
              "    <tr>\n",
              "      <th>999</th>\n",
              "      <td>The Invisible Man</td>\n",
              "      <td>Horror, Sci-Fi</td>\n",
              "      <td>71</td>\n",
              "      <td>7.6</td>\n",
              "      <td>1933</td>\n",
              "      <td>TV-PG</td>\n",
              "      <td>https://www.imdb.com//title/tt0024184/</td>\n",
              "    </tr>\n",
              "  </tbody>\n",
              "</table>\n",
              "<p>984 rows × 7 columns</p>\n",
              "</div>\n",
              "      <button class=\"colab-df-convert\" onclick=\"convertToInteractive('df-de682d9f-7015-4e72-9084-bbb0280e5689')\"\n",
              "              title=\"Convert this dataframe to an interactive table.\"\n",
              "              style=\"display:none;\">\n",
              "        \n",
              "  <svg xmlns=\"http://www.w3.org/2000/svg\" height=\"24px\"viewBox=\"0 0 24 24\"\n",
              "       width=\"24px\">\n",
              "    <path d=\"M0 0h24v24H0V0z\" fill=\"none\"/>\n",
              "    <path d=\"M18.56 5.44l.94 2.06.94-2.06 2.06-.94-2.06-.94-.94-2.06-.94 2.06-2.06.94zm-11 1L8.5 8.5l.94-2.06 2.06-.94-2.06-.94L8.5 2.5l-.94 2.06-2.06.94zm10 10l.94 2.06.94-2.06 2.06-.94-2.06-.94-.94-2.06-.94 2.06-2.06.94z\"/><path d=\"M17.41 7.96l-1.37-1.37c-.4-.4-.92-.59-1.43-.59-.52 0-1.04.2-1.43.59L10.3 9.45l-7.72 7.72c-.78.78-.78 2.05 0 2.83L4 21.41c.39.39.9.59 1.41.59.51 0 1.02-.2 1.41-.59l7.78-7.78 2.81-2.81c.8-.78.8-2.07 0-2.86zM5.41 20L4 18.59l7.72-7.72 1.47 1.35L5.41 20z\"/>\n",
              "  </svg>\n",
              "      </button>\n",
              "      \n",
              "  <style>\n",
              "    .colab-df-container {\n",
              "      display:flex;\n",
              "      flex-wrap:wrap;\n",
              "      gap: 12px;\n",
              "    }\n",
              "\n",
              "    .colab-df-convert {\n",
              "      background-color: #E8F0FE;\n",
              "      border: none;\n",
              "      border-radius: 50%;\n",
              "      cursor: pointer;\n",
              "      display: none;\n",
              "      fill: #1967D2;\n",
              "      height: 32px;\n",
              "      padding: 0 0 0 0;\n",
              "      width: 32px;\n",
              "    }\n",
              "\n",
              "    .colab-df-convert:hover {\n",
              "      background-color: #E2EBFA;\n",
              "      box-shadow: 0px 1px 2px rgba(60, 64, 67, 0.3), 0px 1px 3px 1px rgba(60, 64, 67, 0.15);\n",
              "      fill: #174EA6;\n",
              "    }\n",
              "\n",
              "    [theme=dark] .colab-df-convert {\n",
              "      background-color: #3B4455;\n",
              "      fill: #D2E3FC;\n",
              "    }\n",
              "\n",
              "    [theme=dark] .colab-df-convert:hover {\n",
              "      background-color: #434B5C;\n",
              "      box-shadow: 0px 1px 3px 1px rgba(0, 0, 0, 0.15);\n",
              "      filter: drop-shadow(0px 1px 2px rgba(0, 0, 0, 0.3));\n",
              "      fill: #FFFFFF;\n",
              "    }\n",
              "  </style>\n",
              "\n",
              "      <script>\n",
              "        const buttonEl =\n",
              "          document.querySelector('#df-de682d9f-7015-4e72-9084-bbb0280e5689 button.colab-df-convert');\n",
              "        buttonEl.style.display =\n",
              "          google.colab.kernel.accessAllowed ? 'block' : 'none';\n",
              "\n",
              "        async function convertToInteractive(key) {\n",
              "          const element = document.querySelector('#df-de682d9f-7015-4e72-9084-bbb0280e5689');\n",
              "          const dataTable =\n",
              "            await google.colab.kernel.invokeFunction('convertToInteractive',\n",
              "                                                     [key], {});\n",
              "          if (!dataTable) return;\n",
              "\n",
              "          const docLinkHtml = 'Like what you see? Visit the ' +\n",
              "            '<a target=\"_blank\" href=https://colab.research.google.com/notebooks/data_table.ipynb>data table notebook</a>'\n",
              "            + ' to learn more about interactive tables.';\n",
              "          element.innerHTML = '';\n",
              "          dataTable['output_type'] = 'display_data';\n",
              "          await google.colab.output.renderOutput(dataTable, element);\n",
              "          const docLink = document.createElement('div');\n",
              "          docLink.innerHTML = docLinkHtml;\n",
              "          element.appendChild(docLink);\n",
              "        }\n",
              "      </script>\n",
              "    </div>\n",
              "  </div>\n",
              "  "
            ]
          },
          "metadata": {},
          "execution_count": 32
        }
      ]
    },
    {
      "cell_type": "code",
      "source": [
        "df.certification.fillna(\"Not Rated\",inplace=True)"
      ],
      "metadata": {
        "id": "SckUtlpq8E2F"
      },
      "execution_count": 33,
      "outputs": []
    },
    {
      "cell_type": "code",
      "source": [
        "df.head(20)"
      ],
      "metadata": {
        "colab": {
          "base_uri": "https://localhost:8080/",
          "height": 720
        },
        "id": "4eJcl9ZV8S5Z",
        "outputId": "4290dc67-39b0-4090-f44a-18376dbb3558"
      },
      "execution_count": 34,
      "outputs": [
        {
          "output_type": "execute_result",
          "data": {
            "text/plain": [
              "                                               titles  \\\n",
              "0                            The Shawshank Redemption   \n",
              "1                                       The Godfather   \n",
              "2                                     The Dark Knight   \n",
              "3       The Lord of the Rings: The Return of the King   \n",
              "4                                    Schindler's List   \n",
              "5                               The Godfather Part II   \n",
              "6                                        12 Angry Men   \n",
              "7                                         777 Charlie   \n",
              "8                                        Pulp Fiction   \n",
              "9                          Rocketry: The Nambi Effect   \n",
              "10                                           Jai Bhim   \n",
              "11                                          Inception   \n",
              "12              The Lord of the Rings: The Two Towers   \n",
              "13                                         Fight Club   \n",
              "14  The Lord of the Rings: The Fellowship of the Ring   \n",
              "15                                       Forrest Gump   \n",
              "16                     The Good, the Bad and the Ugly   \n",
              "17                                    Soorarai Pottru   \n",
              "18                                         The Matrix   \n",
              "19                                         Goodfellas   \n",
              "\n",
              "                        genre  duration  rating  year certification  \\\n",
              "0                       Drama       142     9.3  1994             R   \n",
              "1                Crime, Drama       175     9.2  1972             R   \n",
              "2        Action, Crime, Drama       152     9.0  2008         PG-13   \n",
              "3    Action, Adventure, Drama       201     9.0  2003         PG-13   \n",
              "4   Biography, Drama, History       195     9.0  1993             R   \n",
              "5                Crime, Drama       202     9.0  1974             R   \n",
              "6                Crime, Drama        96     9.0  1957      Approved   \n",
              "7    Adventure, Comedy, Drama       164     8.9  2022     Not Rated   \n",
              "8                Crime, Drama       154     8.9  1994             R   \n",
              "9            Biography, Drama       157     8.8  2022     Not Rated   \n",
              "10      Crime, Drama, Mystery       164     8.8  2021         TV-MA   \n",
              "11  Action, Adventure, Sci-Fi       148     8.8  2010         PG-13   \n",
              "12   Action, Adventure, Drama       179     8.8  2002         PG-13   \n",
              "13                      Drama       139     8.8  1999             R   \n",
              "14   Action, Adventure, Drama       178     8.8  2001         PG-13   \n",
              "15             Drama, Romance       142     8.8  1994         PG-13   \n",
              "16         Adventure, Western       178     8.8  1966             R   \n",
              "17                      Drama       153     8.7  2020         TV-MA   \n",
              "18             Action, Sci-Fi       136     8.7  1999             R   \n",
              "19    Biography, Crime, Drama       145     8.7  1990             R   \n",
              "\n",
              "                                        url  \n",
              "0    https://www.imdb.com//title/tt0111161/  \n",
              "1    https://www.imdb.com//title/tt0068646/  \n",
              "2    https://www.imdb.com//title/tt0468569/  \n",
              "3    https://www.imdb.com//title/tt0167260/  \n",
              "4    https://www.imdb.com//title/tt0108052/  \n",
              "5    https://www.imdb.com//title/tt0071562/  \n",
              "6    https://www.imdb.com//title/tt0050083/  \n",
              "7    https://www.imdb.com//title/tt7466810/  \n",
              "8    https://www.imdb.com//title/tt0110912/  \n",
              "9    https://www.imdb.com//title/tt9263550/  \n",
              "10  https://www.imdb.com//title/tt15097216/  \n",
              "11   https://www.imdb.com//title/tt1375666/  \n",
              "12   https://www.imdb.com//title/tt0167261/  \n",
              "13   https://www.imdb.com//title/tt0137523/  \n",
              "14   https://www.imdb.com//title/tt0120737/  \n",
              "15   https://www.imdb.com//title/tt0109830/  \n",
              "16   https://www.imdb.com//title/tt0060196/  \n",
              "17  https://www.imdb.com//title/tt10189514/  \n",
              "18   https://www.imdb.com//title/tt0133093/  \n",
              "19   https://www.imdb.com//title/tt0099685/  "
            ],
            "text/html": [
              "\n",
              "  <div id=\"df-21a4f7da-74c4-4341-9897-ea7f9617357c\">\n",
              "    <div class=\"colab-df-container\">\n",
              "      <div>\n",
              "<style scoped>\n",
              "    .dataframe tbody tr th:only-of-type {\n",
              "        vertical-align: middle;\n",
              "    }\n",
              "\n",
              "    .dataframe tbody tr th {\n",
              "        vertical-align: top;\n",
              "    }\n",
              "\n",
              "    .dataframe thead th {\n",
              "        text-align: right;\n",
              "    }\n",
              "</style>\n",
              "<table border=\"1\" class=\"dataframe\">\n",
              "  <thead>\n",
              "    <tr style=\"text-align: right;\">\n",
              "      <th></th>\n",
              "      <th>titles</th>\n",
              "      <th>genre</th>\n",
              "      <th>duration</th>\n",
              "      <th>rating</th>\n",
              "      <th>year</th>\n",
              "      <th>certification</th>\n",
              "      <th>url</th>\n",
              "    </tr>\n",
              "  </thead>\n",
              "  <tbody>\n",
              "    <tr>\n",
              "      <th>0</th>\n",
              "      <td>The Shawshank Redemption</td>\n",
              "      <td>Drama</td>\n",
              "      <td>142</td>\n",
              "      <td>9.3</td>\n",
              "      <td>1994</td>\n",
              "      <td>R</td>\n",
              "      <td>https://www.imdb.com//title/tt0111161/</td>\n",
              "    </tr>\n",
              "    <tr>\n",
              "      <th>1</th>\n",
              "      <td>The Godfather</td>\n",
              "      <td>Crime, Drama</td>\n",
              "      <td>175</td>\n",
              "      <td>9.2</td>\n",
              "      <td>1972</td>\n",
              "      <td>R</td>\n",
              "      <td>https://www.imdb.com//title/tt0068646/</td>\n",
              "    </tr>\n",
              "    <tr>\n",
              "      <th>2</th>\n",
              "      <td>The Dark Knight</td>\n",
              "      <td>Action, Crime, Drama</td>\n",
              "      <td>152</td>\n",
              "      <td>9.0</td>\n",
              "      <td>2008</td>\n",
              "      <td>PG-13</td>\n",
              "      <td>https://www.imdb.com//title/tt0468569/</td>\n",
              "    </tr>\n",
              "    <tr>\n",
              "      <th>3</th>\n",
              "      <td>The Lord of the Rings: The Return of the King</td>\n",
              "      <td>Action, Adventure, Drama</td>\n",
              "      <td>201</td>\n",
              "      <td>9.0</td>\n",
              "      <td>2003</td>\n",
              "      <td>PG-13</td>\n",
              "      <td>https://www.imdb.com//title/tt0167260/</td>\n",
              "    </tr>\n",
              "    <tr>\n",
              "      <th>4</th>\n",
              "      <td>Schindler's List</td>\n",
              "      <td>Biography, Drama, History</td>\n",
              "      <td>195</td>\n",
              "      <td>9.0</td>\n",
              "      <td>1993</td>\n",
              "      <td>R</td>\n",
              "      <td>https://www.imdb.com//title/tt0108052/</td>\n",
              "    </tr>\n",
              "    <tr>\n",
              "      <th>5</th>\n",
              "      <td>The Godfather Part II</td>\n",
              "      <td>Crime, Drama</td>\n",
              "      <td>202</td>\n",
              "      <td>9.0</td>\n",
              "      <td>1974</td>\n",
              "      <td>R</td>\n",
              "      <td>https://www.imdb.com//title/tt0071562/</td>\n",
              "    </tr>\n",
              "    <tr>\n",
              "      <th>6</th>\n",
              "      <td>12 Angry Men</td>\n",
              "      <td>Crime, Drama</td>\n",
              "      <td>96</td>\n",
              "      <td>9.0</td>\n",
              "      <td>1957</td>\n",
              "      <td>Approved</td>\n",
              "      <td>https://www.imdb.com//title/tt0050083/</td>\n",
              "    </tr>\n",
              "    <tr>\n",
              "      <th>7</th>\n",
              "      <td>777 Charlie</td>\n",
              "      <td>Adventure, Comedy, Drama</td>\n",
              "      <td>164</td>\n",
              "      <td>8.9</td>\n",
              "      <td>2022</td>\n",
              "      <td>Not Rated</td>\n",
              "      <td>https://www.imdb.com//title/tt7466810/</td>\n",
              "    </tr>\n",
              "    <tr>\n",
              "      <th>8</th>\n",
              "      <td>Pulp Fiction</td>\n",
              "      <td>Crime, Drama</td>\n",
              "      <td>154</td>\n",
              "      <td>8.9</td>\n",
              "      <td>1994</td>\n",
              "      <td>R</td>\n",
              "      <td>https://www.imdb.com//title/tt0110912/</td>\n",
              "    </tr>\n",
              "    <tr>\n",
              "      <th>9</th>\n",
              "      <td>Rocketry: The Nambi Effect</td>\n",
              "      <td>Biography, Drama</td>\n",
              "      <td>157</td>\n",
              "      <td>8.8</td>\n",
              "      <td>2022</td>\n",
              "      <td>Not Rated</td>\n",
              "      <td>https://www.imdb.com//title/tt9263550/</td>\n",
              "    </tr>\n",
              "    <tr>\n",
              "      <th>10</th>\n",
              "      <td>Jai Bhim</td>\n",
              "      <td>Crime, Drama, Mystery</td>\n",
              "      <td>164</td>\n",
              "      <td>8.8</td>\n",
              "      <td>2021</td>\n",
              "      <td>TV-MA</td>\n",
              "      <td>https://www.imdb.com//title/tt15097216/</td>\n",
              "    </tr>\n",
              "    <tr>\n",
              "      <th>11</th>\n",
              "      <td>Inception</td>\n",
              "      <td>Action, Adventure, Sci-Fi</td>\n",
              "      <td>148</td>\n",
              "      <td>8.8</td>\n",
              "      <td>2010</td>\n",
              "      <td>PG-13</td>\n",
              "      <td>https://www.imdb.com//title/tt1375666/</td>\n",
              "    </tr>\n",
              "    <tr>\n",
              "      <th>12</th>\n",
              "      <td>The Lord of the Rings: The Two Towers</td>\n",
              "      <td>Action, Adventure, Drama</td>\n",
              "      <td>179</td>\n",
              "      <td>8.8</td>\n",
              "      <td>2002</td>\n",
              "      <td>PG-13</td>\n",
              "      <td>https://www.imdb.com//title/tt0167261/</td>\n",
              "    </tr>\n",
              "    <tr>\n",
              "      <th>13</th>\n",
              "      <td>Fight Club</td>\n",
              "      <td>Drama</td>\n",
              "      <td>139</td>\n",
              "      <td>8.8</td>\n",
              "      <td>1999</td>\n",
              "      <td>R</td>\n",
              "      <td>https://www.imdb.com//title/tt0137523/</td>\n",
              "    </tr>\n",
              "    <tr>\n",
              "      <th>14</th>\n",
              "      <td>The Lord of the Rings: The Fellowship of the Ring</td>\n",
              "      <td>Action, Adventure, Drama</td>\n",
              "      <td>178</td>\n",
              "      <td>8.8</td>\n",
              "      <td>2001</td>\n",
              "      <td>PG-13</td>\n",
              "      <td>https://www.imdb.com//title/tt0120737/</td>\n",
              "    </tr>\n",
              "    <tr>\n",
              "      <th>15</th>\n",
              "      <td>Forrest Gump</td>\n",
              "      <td>Drama, Romance</td>\n",
              "      <td>142</td>\n",
              "      <td>8.8</td>\n",
              "      <td>1994</td>\n",
              "      <td>PG-13</td>\n",
              "      <td>https://www.imdb.com//title/tt0109830/</td>\n",
              "    </tr>\n",
              "    <tr>\n",
              "      <th>16</th>\n",
              "      <td>The Good, the Bad and the Ugly</td>\n",
              "      <td>Adventure, Western</td>\n",
              "      <td>178</td>\n",
              "      <td>8.8</td>\n",
              "      <td>1966</td>\n",
              "      <td>R</td>\n",
              "      <td>https://www.imdb.com//title/tt0060196/</td>\n",
              "    </tr>\n",
              "    <tr>\n",
              "      <th>17</th>\n",
              "      <td>Soorarai Pottru</td>\n",
              "      <td>Drama</td>\n",
              "      <td>153</td>\n",
              "      <td>8.7</td>\n",
              "      <td>2020</td>\n",
              "      <td>TV-MA</td>\n",
              "      <td>https://www.imdb.com//title/tt10189514/</td>\n",
              "    </tr>\n",
              "    <tr>\n",
              "      <th>18</th>\n",
              "      <td>The Matrix</td>\n",
              "      <td>Action, Sci-Fi</td>\n",
              "      <td>136</td>\n",
              "      <td>8.7</td>\n",
              "      <td>1999</td>\n",
              "      <td>R</td>\n",
              "      <td>https://www.imdb.com//title/tt0133093/</td>\n",
              "    </tr>\n",
              "    <tr>\n",
              "      <th>19</th>\n",
              "      <td>Goodfellas</td>\n",
              "      <td>Biography, Crime, Drama</td>\n",
              "      <td>145</td>\n",
              "      <td>8.7</td>\n",
              "      <td>1990</td>\n",
              "      <td>R</td>\n",
              "      <td>https://www.imdb.com//title/tt0099685/</td>\n",
              "    </tr>\n",
              "  </tbody>\n",
              "</table>\n",
              "</div>\n",
              "      <button class=\"colab-df-convert\" onclick=\"convertToInteractive('df-21a4f7da-74c4-4341-9897-ea7f9617357c')\"\n",
              "              title=\"Convert this dataframe to an interactive table.\"\n",
              "              style=\"display:none;\">\n",
              "        \n",
              "  <svg xmlns=\"http://www.w3.org/2000/svg\" height=\"24px\"viewBox=\"0 0 24 24\"\n",
              "       width=\"24px\">\n",
              "    <path d=\"M0 0h24v24H0V0z\" fill=\"none\"/>\n",
              "    <path d=\"M18.56 5.44l.94 2.06.94-2.06 2.06-.94-2.06-.94-.94-2.06-.94 2.06-2.06.94zm-11 1L8.5 8.5l.94-2.06 2.06-.94-2.06-.94L8.5 2.5l-.94 2.06-2.06.94zm10 10l.94 2.06.94-2.06 2.06-.94-2.06-.94-.94-2.06-.94 2.06-2.06.94z\"/><path d=\"M17.41 7.96l-1.37-1.37c-.4-.4-.92-.59-1.43-.59-.52 0-1.04.2-1.43.59L10.3 9.45l-7.72 7.72c-.78.78-.78 2.05 0 2.83L4 21.41c.39.39.9.59 1.41.59.51 0 1.02-.2 1.41-.59l7.78-7.78 2.81-2.81c.8-.78.8-2.07 0-2.86zM5.41 20L4 18.59l7.72-7.72 1.47 1.35L5.41 20z\"/>\n",
              "  </svg>\n",
              "      </button>\n",
              "      \n",
              "  <style>\n",
              "    .colab-df-container {\n",
              "      display:flex;\n",
              "      flex-wrap:wrap;\n",
              "      gap: 12px;\n",
              "    }\n",
              "\n",
              "    .colab-df-convert {\n",
              "      background-color: #E8F0FE;\n",
              "      border: none;\n",
              "      border-radius: 50%;\n",
              "      cursor: pointer;\n",
              "      display: none;\n",
              "      fill: #1967D2;\n",
              "      height: 32px;\n",
              "      padding: 0 0 0 0;\n",
              "      width: 32px;\n",
              "    }\n",
              "\n",
              "    .colab-df-convert:hover {\n",
              "      background-color: #E2EBFA;\n",
              "      box-shadow: 0px 1px 2px rgba(60, 64, 67, 0.3), 0px 1px 3px 1px rgba(60, 64, 67, 0.15);\n",
              "      fill: #174EA6;\n",
              "    }\n",
              "\n",
              "    [theme=dark] .colab-df-convert {\n",
              "      background-color: #3B4455;\n",
              "      fill: #D2E3FC;\n",
              "    }\n",
              "\n",
              "    [theme=dark] .colab-df-convert:hover {\n",
              "      background-color: #434B5C;\n",
              "      box-shadow: 0px 1px 3px 1px rgba(0, 0, 0, 0.15);\n",
              "      filter: drop-shadow(0px 1px 2px rgba(0, 0, 0, 0.3));\n",
              "      fill: #FFFFFF;\n",
              "    }\n",
              "  </style>\n",
              "\n",
              "      <script>\n",
              "        const buttonEl =\n",
              "          document.querySelector('#df-21a4f7da-74c4-4341-9897-ea7f9617357c button.colab-df-convert');\n",
              "        buttonEl.style.display =\n",
              "          google.colab.kernel.accessAllowed ? 'block' : 'none';\n",
              "\n",
              "        async function convertToInteractive(key) {\n",
              "          const element = document.querySelector('#df-21a4f7da-74c4-4341-9897-ea7f9617357c');\n",
              "          const dataTable =\n",
              "            await google.colab.kernel.invokeFunction('convertToInteractive',\n",
              "                                                     [key], {});\n",
              "          if (!dataTable) return;\n",
              "\n",
              "          const docLinkHtml = 'Like what you see? Visit the ' +\n",
              "            '<a target=\"_blank\" href=https://colab.research.google.com/notebooks/data_table.ipynb>data table notebook</a>'\n",
              "            + ' to learn more about interactive tables.';\n",
              "          element.innerHTML = '';\n",
              "          dataTable['output_type'] = 'display_data';\n",
              "          await google.colab.output.renderOutput(dataTable, element);\n",
              "          const docLink = document.createElement('div');\n",
              "          docLink.innerHTML = docLinkHtml;\n",
              "          element.appendChild(docLink);\n",
              "        }\n",
              "      </script>\n",
              "    </div>\n",
              "  </div>\n",
              "  "
            ]
          },
          "metadata": {},
          "execution_count": 34
        }
      ]
    },
    {
      "cell_type": "code",
      "source": [
        "df.describe()"
      ],
      "metadata": {
        "colab": {
          "base_uri": "https://localhost:8080/",
          "height": 300
        },
        "id": "DorC4Nxzu9e-",
        "outputId": "1d03202a-bae4-48d3-9a6d-50ebd903a5ae"
      },
      "execution_count": 35,
      "outputs": [
        {
          "output_type": "execute_result",
          "data": {
            "text/plain": [
              "          duration       rating\n",
              "count  1000.000000  1000.000000\n",
              "mean    123.872000     7.968500\n",
              "std      28.550495     0.278128\n",
              "min      45.000000     7.600000\n",
              "25%     103.000000     7.800000\n",
              "50%     120.000000     7.900000\n",
              "75%     138.000000     8.100000\n",
              "max     321.000000     9.300000"
            ],
            "text/html": [
              "\n",
              "  <div id=\"df-8b97aaf5-8688-4d97-a3b6-7e58d6dcdb31\">\n",
              "    <div class=\"colab-df-container\">\n",
              "      <div>\n",
              "<style scoped>\n",
              "    .dataframe tbody tr th:only-of-type {\n",
              "        vertical-align: middle;\n",
              "    }\n",
              "\n",
              "    .dataframe tbody tr th {\n",
              "        vertical-align: top;\n",
              "    }\n",
              "\n",
              "    .dataframe thead th {\n",
              "        text-align: right;\n",
              "    }\n",
              "</style>\n",
              "<table border=\"1\" class=\"dataframe\">\n",
              "  <thead>\n",
              "    <tr style=\"text-align: right;\">\n",
              "      <th></th>\n",
              "      <th>duration</th>\n",
              "      <th>rating</th>\n",
              "    </tr>\n",
              "  </thead>\n",
              "  <tbody>\n",
              "    <tr>\n",
              "      <th>count</th>\n",
              "      <td>1000.000000</td>\n",
              "      <td>1000.000000</td>\n",
              "    </tr>\n",
              "    <tr>\n",
              "      <th>mean</th>\n",
              "      <td>123.872000</td>\n",
              "      <td>7.968500</td>\n",
              "    </tr>\n",
              "    <tr>\n",
              "      <th>std</th>\n",
              "      <td>28.550495</td>\n",
              "      <td>0.278128</td>\n",
              "    </tr>\n",
              "    <tr>\n",
              "      <th>min</th>\n",
              "      <td>45.000000</td>\n",
              "      <td>7.600000</td>\n",
              "    </tr>\n",
              "    <tr>\n",
              "      <th>25%</th>\n",
              "      <td>103.000000</td>\n",
              "      <td>7.800000</td>\n",
              "    </tr>\n",
              "    <tr>\n",
              "      <th>50%</th>\n",
              "      <td>120.000000</td>\n",
              "      <td>7.900000</td>\n",
              "    </tr>\n",
              "    <tr>\n",
              "      <th>75%</th>\n",
              "      <td>138.000000</td>\n",
              "      <td>8.100000</td>\n",
              "    </tr>\n",
              "    <tr>\n",
              "      <th>max</th>\n",
              "      <td>321.000000</td>\n",
              "      <td>9.300000</td>\n",
              "    </tr>\n",
              "  </tbody>\n",
              "</table>\n",
              "</div>\n",
              "      <button class=\"colab-df-convert\" onclick=\"convertToInteractive('df-8b97aaf5-8688-4d97-a3b6-7e58d6dcdb31')\"\n",
              "              title=\"Convert this dataframe to an interactive table.\"\n",
              "              style=\"display:none;\">\n",
              "        \n",
              "  <svg xmlns=\"http://www.w3.org/2000/svg\" height=\"24px\"viewBox=\"0 0 24 24\"\n",
              "       width=\"24px\">\n",
              "    <path d=\"M0 0h24v24H0V0z\" fill=\"none\"/>\n",
              "    <path d=\"M18.56 5.44l.94 2.06.94-2.06 2.06-.94-2.06-.94-.94-2.06-.94 2.06-2.06.94zm-11 1L8.5 8.5l.94-2.06 2.06-.94-2.06-.94L8.5 2.5l-.94 2.06-2.06.94zm10 10l.94 2.06.94-2.06 2.06-.94-2.06-.94-.94-2.06-.94 2.06-2.06.94z\"/><path d=\"M17.41 7.96l-1.37-1.37c-.4-.4-.92-.59-1.43-.59-.52 0-1.04.2-1.43.59L10.3 9.45l-7.72 7.72c-.78.78-.78 2.05 0 2.83L4 21.41c.39.39.9.59 1.41.59.51 0 1.02-.2 1.41-.59l7.78-7.78 2.81-2.81c.8-.78.8-2.07 0-2.86zM5.41 20L4 18.59l7.72-7.72 1.47 1.35L5.41 20z\"/>\n",
              "  </svg>\n",
              "      </button>\n",
              "      \n",
              "  <style>\n",
              "    .colab-df-container {\n",
              "      display:flex;\n",
              "      flex-wrap:wrap;\n",
              "      gap: 12px;\n",
              "    }\n",
              "\n",
              "    .colab-df-convert {\n",
              "      background-color: #E8F0FE;\n",
              "      border: none;\n",
              "      border-radius: 50%;\n",
              "      cursor: pointer;\n",
              "      display: none;\n",
              "      fill: #1967D2;\n",
              "      height: 32px;\n",
              "      padding: 0 0 0 0;\n",
              "      width: 32px;\n",
              "    }\n",
              "\n",
              "    .colab-df-convert:hover {\n",
              "      background-color: #E2EBFA;\n",
              "      box-shadow: 0px 1px 2px rgba(60, 64, 67, 0.3), 0px 1px 3px 1px rgba(60, 64, 67, 0.15);\n",
              "      fill: #174EA6;\n",
              "    }\n",
              "\n",
              "    [theme=dark] .colab-df-convert {\n",
              "      background-color: #3B4455;\n",
              "      fill: #D2E3FC;\n",
              "    }\n",
              "\n",
              "    [theme=dark] .colab-df-convert:hover {\n",
              "      background-color: #434B5C;\n",
              "      box-shadow: 0px 1px 3px 1px rgba(0, 0, 0, 0.15);\n",
              "      filter: drop-shadow(0px 1px 2px rgba(0, 0, 0, 0.3));\n",
              "      fill: #FFFFFF;\n",
              "    }\n",
              "  </style>\n",
              "\n",
              "      <script>\n",
              "        const buttonEl =\n",
              "          document.querySelector('#df-8b97aaf5-8688-4d97-a3b6-7e58d6dcdb31 button.colab-df-convert');\n",
              "        buttonEl.style.display =\n",
              "          google.colab.kernel.accessAllowed ? 'block' : 'none';\n",
              "\n",
              "        async function convertToInteractive(key) {\n",
              "          const element = document.querySelector('#df-8b97aaf5-8688-4d97-a3b6-7e58d6dcdb31');\n",
              "          const dataTable =\n",
              "            await google.colab.kernel.invokeFunction('convertToInteractive',\n",
              "                                                     [key], {});\n",
              "          if (!dataTable) return;\n",
              "\n",
              "          const docLinkHtml = 'Like what you see? Visit the ' +\n",
              "            '<a target=\"_blank\" href=https://colab.research.google.com/notebooks/data_table.ipynb>data table notebook</a>'\n",
              "            + ' to learn more about interactive tables.';\n",
              "          element.innerHTML = '';\n",
              "          dataTable['output_type'] = 'display_data';\n",
              "          await google.colab.output.renderOutput(dataTable, element);\n",
              "          const docLink = document.createElement('div');\n",
              "          docLink.innerHTML = docLinkHtml;\n",
              "          element.appendChild(docLink);\n",
              "        }\n",
              "      </script>\n",
              "    </div>\n",
              "  </div>\n",
              "  "
            ]
          },
          "metadata": {},
          "execution_count": 35
        }
      ]
    },
    {
      "cell_type": "code",
      "source": [
        "df.corr()"
      ],
      "metadata": {
        "colab": {
          "base_uri": "https://localhost:8080/",
          "height": 112
        },
        "id": "oJsCQMrevRgM",
        "outputId": "7fca94b9-968a-4894-8001-55e89cbfa516"
      },
      "execution_count": 36,
      "outputs": [
        {
          "output_type": "execute_result",
          "data": {
            "text/plain": [
              "          duration    rating\n",
              "duration  1.000000  0.276218\n",
              "rating    0.276218  1.000000"
            ],
            "text/html": [
              "\n",
              "  <div id=\"df-0c320945-ac5b-4da2-a184-959f8dc3a702\">\n",
              "    <div class=\"colab-df-container\">\n",
              "      <div>\n",
              "<style scoped>\n",
              "    .dataframe tbody tr th:only-of-type {\n",
              "        vertical-align: middle;\n",
              "    }\n",
              "\n",
              "    .dataframe tbody tr th {\n",
              "        vertical-align: top;\n",
              "    }\n",
              "\n",
              "    .dataframe thead th {\n",
              "        text-align: right;\n",
              "    }\n",
              "</style>\n",
              "<table border=\"1\" class=\"dataframe\">\n",
              "  <thead>\n",
              "    <tr style=\"text-align: right;\">\n",
              "      <th></th>\n",
              "      <th>duration</th>\n",
              "      <th>rating</th>\n",
              "    </tr>\n",
              "  </thead>\n",
              "  <tbody>\n",
              "    <tr>\n",
              "      <th>duration</th>\n",
              "      <td>1.000000</td>\n",
              "      <td>0.276218</td>\n",
              "    </tr>\n",
              "    <tr>\n",
              "      <th>rating</th>\n",
              "      <td>0.276218</td>\n",
              "      <td>1.000000</td>\n",
              "    </tr>\n",
              "  </tbody>\n",
              "</table>\n",
              "</div>\n",
              "      <button class=\"colab-df-convert\" onclick=\"convertToInteractive('df-0c320945-ac5b-4da2-a184-959f8dc3a702')\"\n",
              "              title=\"Convert this dataframe to an interactive table.\"\n",
              "              style=\"display:none;\">\n",
              "        \n",
              "  <svg xmlns=\"http://www.w3.org/2000/svg\" height=\"24px\"viewBox=\"0 0 24 24\"\n",
              "       width=\"24px\">\n",
              "    <path d=\"M0 0h24v24H0V0z\" fill=\"none\"/>\n",
              "    <path d=\"M18.56 5.44l.94 2.06.94-2.06 2.06-.94-2.06-.94-.94-2.06-.94 2.06-2.06.94zm-11 1L8.5 8.5l.94-2.06 2.06-.94-2.06-.94L8.5 2.5l-.94 2.06-2.06.94zm10 10l.94 2.06.94-2.06 2.06-.94-2.06-.94-.94-2.06-.94 2.06-2.06.94z\"/><path d=\"M17.41 7.96l-1.37-1.37c-.4-.4-.92-.59-1.43-.59-.52 0-1.04.2-1.43.59L10.3 9.45l-7.72 7.72c-.78.78-.78 2.05 0 2.83L4 21.41c.39.39.9.59 1.41.59.51 0 1.02-.2 1.41-.59l7.78-7.78 2.81-2.81c.8-.78.8-2.07 0-2.86zM5.41 20L4 18.59l7.72-7.72 1.47 1.35L5.41 20z\"/>\n",
              "  </svg>\n",
              "      </button>\n",
              "      \n",
              "  <style>\n",
              "    .colab-df-container {\n",
              "      display:flex;\n",
              "      flex-wrap:wrap;\n",
              "      gap: 12px;\n",
              "    }\n",
              "\n",
              "    .colab-df-convert {\n",
              "      background-color: #E8F0FE;\n",
              "      border: none;\n",
              "      border-radius: 50%;\n",
              "      cursor: pointer;\n",
              "      display: none;\n",
              "      fill: #1967D2;\n",
              "      height: 32px;\n",
              "      padding: 0 0 0 0;\n",
              "      width: 32px;\n",
              "    }\n",
              "\n",
              "    .colab-df-convert:hover {\n",
              "      background-color: #E2EBFA;\n",
              "      box-shadow: 0px 1px 2px rgba(60, 64, 67, 0.3), 0px 1px 3px 1px rgba(60, 64, 67, 0.15);\n",
              "      fill: #174EA6;\n",
              "    }\n",
              "\n",
              "    [theme=dark] .colab-df-convert {\n",
              "      background-color: #3B4455;\n",
              "      fill: #D2E3FC;\n",
              "    }\n",
              "\n",
              "    [theme=dark] .colab-df-convert:hover {\n",
              "      background-color: #434B5C;\n",
              "      box-shadow: 0px 1px 3px 1px rgba(0, 0, 0, 0.15);\n",
              "      filter: drop-shadow(0px 1px 2px rgba(0, 0, 0, 0.3));\n",
              "      fill: #FFFFFF;\n",
              "    }\n",
              "  </style>\n",
              "\n",
              "      <script>\n",
              "        const buttonEl =\n",
              "          document.querySelector('#df-0c320945-ac5b-4da2-a184-959f8dc3a702 button.colab-df-convert');\n",
              "        buttonEl.style.display =\n",
              "          google.colab.kernel.accessAllowed ? 'block' : 'none';\n",
              "\n",
              "        async function convertToInteractive(key) {\n",
              "          const element = document.querySelector('#df-0c320945-ac5b-4da2-a184-959f8dc3a702');\n",
              "          const dataTable =\n",
              "            await google.colab.kernel.invokeFunction('convertToInteractive',\n",
              "                                                     [key], {});\n",
              "          if (!dataTable) return;\n",
              "\n",
              "          const docLinkHtml = 'Like what you see? Visit the ' +\n",
              "            '<a target=\"_blank\" href=https://colab.research.google.com/notebooks/data_table.ipynb>data table notebook</a>'\n",
              "            + ' to learn more about interactive tables.';\n",
              "          element.innerHTML = '';\n",
              "          dataTable['output_type'] = 'display_data';\n",
              "          await google.colab.output.renderOutput(dataTable, element);\n",
              "          const docLink = document.createElement('div');\n",
              "          docLink.innerHTML = docLinkHtml;\n",
              "          element.appendChild(docLink);\n",
              "        }\n",
              "      </script>\n",
              "    </div>\n",
              "  </div>\n",
              "  "
            ]
          },
          "metadata": {},
          "execution_count": 36
        }
      ]
    },
    {
      "cell_type": "code",
      "source": [
        "df['rating'].value_counts()"
      ],
      "metadata": {
        "colab": {
          "base_uri": "https://localhost:8080/"
        },
        "id": "YBcSJnjfvb_K",
        "outputId": "70fc5555-44c6-4729-d4ca-cc1d43655dd8"
      },
      "execution_count": 37,
      "outputs": [
        {
          "output_type": "execute_result",
          "data": {
            "text/plain": [
              "7.7    165\n",
              "7.8    154\n",
              "7.9    130\n",
              "8.1    130\n",
              "8.0    127\n",
              "7.6     83\n",
              "8.2     70\n",
              "8.3     42\n",
              "8.4     38\n",
              "8.5     24\n",
              "8.6     15\n",
              "8.8      8\n",
              "8.7      5\n",
              "9.0      5\n",
              "8.9      2\n",
              "9.2      1\n",
              "9.3      1\n",
              "Name: rating, dtype: int64"
            ]
          },
          "metadata": {},
          "execution_count": 37
        }
      ]
    },
    {
      "cell_type": "code",
      "source": [
        "df['rating'].unique()"
      ],
      "metadata": {
        "colab": {
          "base_uri": "https://localhost:8080/"
        },
        "id": "5dUa8Byb7nk4",
        "outputId": "c92b5614-5ec2-4e91-bf1d-bd539d302ee4"
      },
      "execution_count": 38,
      "outputs": [
        {
          "output_type": "execute_result",
          "data": {
            "text/plain": [
              "array([9.3, 9.2, 9. , 8.9, 8.8, 8.7, 8.6, 8.5, 8.4, 8.3, 8.2, 8.1, 8. ,\n",
              "       7.9, 7.8, 7.7, 7.6])"
            ]
          },
          "metadata": {},
          "execution_count": 38
        }
      ]
    },
    {
      "cell_type": "code",
      "source": [
        "df['certification'].unique()"
      ],
      "metadata": {
        "colab": {
          "base_uri": "https://localhost:8080/"
        },
        "id": "gjAvu6Wu8DSa",
        "outputId": "31d4d38a-c838-4773-8e07-31d74217fc59"
      },
      "execution_count": 39,
      "outputs": [
        {
          "output_type": "execute_result",
          "data": {
            "text/plain": [
              "array(['R', 'PG-13', 'Approved', 'Not Rated', 'TV-MA', 'PG', 'G', 'TV-14',\n",
              "       'Passed', 'M/PG', 'GP', 'TV-PG', 'Unrated', 'NC-17'], dtype=object)"
            ]
          },
          "metadata": {},
          "execution_count": 39
        }
      ]
    },
    {
      "cell_type": "code",
      "source": [
        "df1 = df.apply(pd.to_numeric, args=('coerce',))"
      ],
      "metadata": {
        "id": "VI3bGdPoFZn0"
      },
      "execution_count": 40,
      "outputs": []
    },
    {
      "cell_type": "code",
      "source": [
        "df.groupby('titles') ['year'].sum()"
      ],
      "metadata": {
        "colab": {
          "base_uri": "https://localhost:8080/"
        },
        "id": "jsIxL70AH2Za",
        "outputId": "f6b47c37-7704-4b01-aaaf-aed595ea191b"
      },
      "execution_count": 41,
      "outputs": [
        {
          "output_type": "execute_result",
          "data": {
            "text/plain": [
              "titles\n",
              "12 Angry Men                1957\n",
              "12 Monkeys                  1995\n",
              "12 Years a Slave            2013\n",
              "1917                        2019\n",
              "2001: A Space Odyssey       1968\n",
              "                            ... \n",
              "Zelig                       1983\n",
              "Zindagi Na Milegi Dobara    2011\n",
              "Zodiac                      2007\n",
              "Zootopia                    2016\n",
              "Zulu                        1964\n",
              "Name: year, Length: 995, dtype: object"
            ]
          },
          "metadata": {},
          "execution_count": 41
        }
      ]
    },
    {
      "cell_type": "code",
      "source": [
        "df.groupby('titles') ['duration'].mean()"
      ],
      "metadata": {
        "colab": {
          "base_uri": "https://localhost:8080/"
        },
        "id": "9th6ch-d4K5T",
        "outputId": "652ea2c2-215f-4c11-851a-89a0b3b9a6a8"
      },
      "execution_count": 42,
      "outputs": [
        {
          "output_type": "execute_result",
          "data": {
            "text/plain": [
              "titles\n",
              "12 Angry Men                 96.0\n",
              "12 Monkeys                  129.0\n",
              "12 Years a Slave            134.0\n",
              "1917                        119.0\n",
              "2001: A Space Odyssey       149.0\n",
              "                            ...  \n",
              "Zelig                        79.0\n",
              "Zindagi Na Milegi Dobara    155.0\n",
              "Zodiac                      157.0\n",
              "Zootopia                    108.0\n",
              "Zulu                        138.0\n",
              "Name: duration, Length: 995, dtype: float64"
            ]
          },
          "metadata": {},
          "execution_count": 42
        }
      ]
    },
    {
      "cell_type": "code",
      "source": [
        "df.groupby('titles') ['rating'].max()"
      ],
      "metadata": {
        "colab": {
          "base_uri": "https://localhost:8080/"
        },
        "id": "f8m7VDHN6VLF",
        "outputId": "7e958976-095c-4214-d5f1-6f8eaceafb1f"
      },
      "execution_count": 43,
      "outputs": [
        {
          "output_type": "execute_result",
          "data": {
            "text/plain": [
              "titles\n",
              "12 Angry Men                9.0\n",
              "12 Monkeys                  8.0\n",
              "12 Years a Slave            8.1\n",
              "1917                        8.2\n",
              "2001: A Space Odyssey       8.3\n",
              "                           ... \n",
              "Zelig                       7.7\n",
              "Zindagi Na Milegi Dobara    8.2\n",
              "Zodiac                      7.7\n",
              "Zootopia                    8.0\n",
              "Zulu                        7.7\n",
              "Name: rating, Length: 995, dtype: float64"
            ]
          },
          "metadata": {},
          "execution_count": 43
        }
      ]
    },
    {
      "cell_type": "code",
      "source": [
        "import pandas as pd\n",
        "import numpy as np\n",
        "import matplotlib.pyplot as plt\n",
        "import seaborn as sns\n",
        "sns.set()"
      ],
      "metadata": {
        "id": "Ir2C5qe_9Cmk"
      },
      "execution_count": 44,
      "outputs": []
    },
    {
      "cell_type": "code",
      "source": [
        "pd.set_option('display.max_rows',500)\n",
        "pd.set_option('display.max_columns',500)\n",
        "pd.set_option('display.width',1000)"
      ],
      "metadata": {
        "id": "t7cMa48r4tWg"
      },
      "execution_count": 45,
      "outputs": []
    },
    {
      "cell_type": "code",
      "source": [
        "plt.plot(df['duration'],df['rating'],label='rating')"
      ],
      "metadata": {
        "colab": {
          "base_uri": "https://localhost:8080/",
          "height": 285
        },
        "id": "wH6A1wIW5I_F",
        "outputId": "89f08a2a-4341-4bcf-81bd-090e63a58b0a"
      },
      "execution_count": 46,
      "outputs": [
        {
          "output_type": "execute_result",
          "data": {
            "text/plain": [
              "[<matplotlib.lines.Line2D at 0x7f8624e29910>]"
            ]
          },
          "metadata": {},
          "execution_count": 46
        },
        {
          "output_type": "display_data",
          "data": {
            "text/plain": [
              "<Figure size 432x288 with 1 Axes>"
            ],
            "image/png": "[encoded data removed]"
          },
          "metadata": {}
        }
      ]
    },
    {
      "cell_type": "code",
      "source": [
        "sns.heatmap(df.corr(),annot = True, fmt='.2f')"
      ],
      "metadata": {
        "colab": {
          "base_uri": "https://localhost:8080/",
          "height": 289
        },
        "id": "Xc-QRh7ov2Gu",
        "outputId": "b9a5389a-800c-40a4-d2e4-05d1eab13cee"
      },
      "execution_count": 47,
      "outputs": [
        {
          "output_type": "execute_result",
          "data": {
            "text/plain": [
              "<matplotlib.axes._subplots.AxesSubplot at 0x7f8625631a30>"
            ]
          },
          "metadata": {},
          "execution_count": 47
        },
        {
          "output_type": "display_data",
          "data": {
            "text/plain": [
              "<Figure size 432x288 with 2 Axes>"
            ],
            "image/png": "[encoded data removed]"
          },
          "metadata": {}
        }
      ]
    },
    {
      "cell_type": "code",
      "source": [
        "sns.pairplot(df)"
      ],
      "metadata": {
        "colab": {
          "base_uri": "https://localhost:8080/",
          "height": 389
        },
        "id": "9O1vnkxMwO6Y",
        "outputId": "68585c74-23d7-4f5e-9144-13c43e072252"
      },
      "execution_count": 48,
      "outputs": [
        {
          "output_type": "execute_result",
          "data": {
            "text/plain": [
              "<seaborn.axisgrid.PairGrid at 0x7f862472ae80>"
            ]
          },
          "metadata": {},
          "execution_count": 48
        },
        {
          "output_type": "display_data",
          "data": {
            "text/plain": [
              "<Figure size 360x360 with 6 Axes>"
            ],
            "image/png": "[encoded data removed]"
          },
          "metadata": {}
        }
      ]
    },
    {
      "cell_type": "code",
      "source": [
        "filtered_genres = df.set_index('titles').genre.str.split(',',expand=True).stack().reset_index(level=1,drop=True);\n",
        "plt.figure(figsize=(10,10))\n",
        "g = sns.countplot(y = filtered_genres,order=filtered_genres.value_counts().index[:20])\n",
        "plt.title('Top 20 Genres on IMDb')\n",
        "plt.xlabel('Titles')\n",
        "plt.ylabel('Genres')\n",
        "plt.show()"
      ],
      "metadata": {
        "colab": {
          "base_uri": "https://localhost:8080/",
          "height": 627
        },
        "id": "P7I_d4N7Kjz4",
        "outputId": "361b7c6e-e402-42ca-fd48-51c9d8342ae9"
      },
      "execution_count": 49,
      "outputs": [
        {
          "output_type": "display_data",
          "data": {
            "text/plain": [
              "<Figure size 720x720 with 1 Axes>"
            ],
            "image/png": "[encoded data removed]"
          },
          "metadata": {}
        }
      ]
    },
    {
      "cell_type": "code",
      "source": [
        "# From the graph above,Drama movies takes the first place, followed by Action and comedy"
      ],
      "metadata": {
        "id": "ZSdNpkk4LIeU"
      },
      "execution_count": 50,
      "outputs": []
    },
    {
      "cell_type": "code",
      "source": [
        "plt.boxplot([df['duration'],df['rating']])"
      ],
      "metadata": {
        "colab": {
          "base_uri": "https://localhost:8080/",
          "height": 528
        },
        "id": "VwsldOk_B4Bp",
        "outputId": "6aefa3a6-3308-4af9-a85f-b4e93a68dee7"
      },
      "execution_count": 51,
      "outputs": [
        {
          "output_type": "execute_result",
          "data": {
            "text/plain": [
              "{'whiskers': [<matplotlib.lines.Line2D at 0x7f8625b38d90>,\n",
              "  <matplotlib.lines.Line2D at 0x7f8625b27130>,\n",
              "  <matplotlib.lines.Line2D at 0x7f8625b115b0>,\n",
              "  <matplotlib.lines.Line2D at 0x7f8625b11910>],\n",
              " 'caps': [<matplotlib.lines.Line2D at 0x7f8625b27490>,\n",
              "  <matplotlib.lines.Line2D at 0x7f8625b277f0>,\n",
              "  <matplotlib.lines.Line2D at 0x7f8625b11c70>,\n",
              "  <matplotlib.lines.Line2D at 0x7f8625b11fd0>],\n",
              " 'boxes': [<matplotlib.lines.Line2D at 0x7f8625b38a30>,\n",
              "  <matplotlib.lines.Line2D at 0x7f8625b11250>],\n",
              " 'medians': [<matplotlib.lines.Line2D at 0x7f8625b27b50>,\n",
              "  <matplotlib.lines.Line2D at 0x7f8625b32370>],\n",
              " 'fliers': [<matplotlib.lines.Line2D at 0x7f8625b27e50>,\n",
              "  <matplotlib.lines.Line2D at 0x7f8625b32670>],\n",
              " 'means': []}"
            ]
          },
          "metadata": {},
          "execution_count": 51
        },
        {
          "output_type": "display_data",
          "data": {
            "text/plain": [
              "<Figure size 432x288 with 1 Axes>"
            ],
            "image/png": "[encoded data removed]"
          },
          "metadata": {}
        }
      ]
    },
    {
      "cell_type": "code",
      "source": [
        "#There are outliers in the first column"
      ],
      "metadata": {
        "id": "jI53Fc7KZrmf"
      },
      "execution_count": 52,
      "outputs": []
    },
    {
      "cell_type": "code",
      "source": [
        "import plotly.express as px\n",
        "years = df.groupby('year')['rating'].mean().reset_index()\n",
        "px.scatter(years,x='year',y='rating').show()\n",
        "#Grouped movies by year,trying to see if the rating follows a pattern throughout the years,if the quality of the movies follow a trend\n",
        "#The users don't seem to be satisfied with the movies nowadays"
      ],
      "metadata": {
        "colab": {
          "base_uri": "https://localhost:8080/",
          "height": 542
        },
        "id": "nLmACymmU1AJ",
        "outputId": "0784a85a-40c7-4002-cea0-dbaa073bba24"
      },
      "execution_count": 53,
      "outputs": [
        {
          "output_type": "display_data",
          "data": {
            "text/html": [
              "<html>\n",
              "<head><meta charset=\"utf-8\" /></head>\n",
              "<body>\n",
              "    <div>            <script src=\"https://cdnjs.cloudflare.com/ajax/libs/mathjax/2.7.5/MathJax.js?config=TeX-AMS-MML_SVG\"></script><script type=\"text/javascript\">if (window.MathJax) {MathJax.Hub.Config({SVG: {font: \"STIX-Web\"}});}</script>                <script type=\"text/javascript\">window.PlotlyConfig = {MathJaxConfig: 'local'};</script>\n",
              "        <script src=\"https://cdn.plot.ly/plotly-2.8.3.min.js\"></script>                <div id=\"340a8c29-0fae-49e8-95d6-0d84437f346f\" class=\"plotly-graph-div\" style=\"height:525px; width:100%;\"></div>            <script type=\"text/javascript\">                                    window.PLOTLYENV=window.PLOTLYENV || {};                                    if (document.getElementById(\"340a8c29-0fae-49e8-95d6-0d84437f346f\")) {                    Plotly.newPlot(                        \"340a8c29-0fae-49e8-95d6-0d84437f346f\",                        [{\"hovertemplate\":\"year=%{x}<br>rating=%{y}<extra></extra>\",\"legendgroup\":\"\",\"marker\":{\"color\":\"#636efa\",\"symbol\":\"circle\"},\"mode\":\"markers\",\"name\":\"\",\"orientation\":\"v\",\"showlegend\":false,\"x\":[\"1920\",\"1921\",\"1922\",\"1924\",\"1925\",\"1926\",\"1927\",\"1928\",\"1930\",\"1931\",\"1932\",\"1933\",\"1934\",\"1935\",\"1936\",\"1937\",\"1938\",\"1939\",\"1940\",\"1941\",\"1942\",\"1943\",\"1944\",\"1945\",\"1946\",\"1947\",\"1948\",\"1949\",\"1950\",\"1951\",\"1952\",\"1953\",\"1954\",\"1955\",\"1956\",\"1957\",\"1958\",\"1959\",\"1960\",\"1961\",\"1962\",\"1963\",\"1964\",\"1965\",\"1966\",\"1967\",\"1968\",\"1969\",\"1970\",\"1971\",\"1972\",\"1973\",\"1974\",\"1975\",\"1976\",\"1977\",\"1978\",\"1979\",\"1980\",\"1981\",\"1982\",\"1983\",\"1984\",\"1985\",\"1986\",\"1987\",\"1988\",\"1989\",\"1990\",\"1991\",\"1992\",\"1993\",\"1994\",\"1995\",\"1996\",\"1997\",\"1998\",\"1999\",\"2000\",\"2001\",\"2002\",\"2003\",\"2004\",\"2005\",\"2006\",\"2007\",\"2008\",\"2009\",\"2010\",\"2011\",\"2012\",\"2013\",\"2014\",\"2015\",\"2016\",\"2017\",\"2018\",\"2019\",\"2020\",\"2021\",\"2022\",\"I) (\",\"II) \",\"III)\"],\"xaxis\":\"x\",\"y\":[8.0,8.3,7.9,8.2,8.05,8.2,8.2,8.149999999999999,8.1,8.200000000000001,7.75,7.766666666666667,8.0,7.733333333333333,8.5,7.85,7.825,8.02,8.0,8.066666666666668,8.35,7.8,7.94,7.95,8.08,7.95,8.0,8.066666666666666,8.066666666666666,7.88,8.1,7.983333333333333,8.1,7.983333333333333,7.875,8.266666666666667,8.040000000000001,8.085714285714285,7.970000000000001,8.059999999999999,8.015384615384615,8.016666666666667,7.871428571428572,7.949999999999999,8.133333333333333,7.827272727272727,8.014285714285714,7.975,7.900000000000001,7.9375,8.0375,7.881818181818182,8.057142857142857,8.09,8.033333333333333,8.066666666666666,7.9,8.075,8.0875,8.133333333333333,7.9363636363636365,8.0,8.05,7.9875,7.916666666666667,7.836363636363637,8.018181818181818,7.88,7.9125,7.9799999999999995,7.833333333333333,7.923809523809524,8.275,8.08125,7.911111111111111,7.93157894736842,7.975,8.064705882352941,7.961111111111112,7.916,7.95,7.9714285714285715,7.903571428571429,7.855555555555556,7.8999999999999995,7.8875,7.936842105263159,7.896,7.942105263157895,7.9,7.956521739130435,7.8961538461538465,7.8999999999999995,7.873684210526315,7.920833333333333,7.926666666666667,8.023529411764706,8.02,8.0875,8.17,8.226666666666667,7.9071428571428575,8.0,7.85],\"yaxis\":\"y\",\"type\":\"scatter\"}],                        {\"template\":{\"data\":{\"bar\":[{\"error_x\":{\"color\":\"#2a3f5f\"},\"error_y\":{\"color\":\"#2a3f5f\"},\"marker\":{\"line\":{\"color\":\"#E5ECF6\",\"width\":0.5},\"pattern\":{\"fillmode\":\"overlay\",\"size\":10,\"solidity\":0.2}},\"type\":\"bar\"}],\"barpolar\":[{\"marker\":{\"line\":{\"color\":\"#E5ECF6\",\"width\":0.5},\"pattern\":{\"fillmode\":\"overlay\",\"size\":10,\"solidity\":0.2}},\"type\":\"barpolar\"}],\"carpet\":[{\"aaxis\":{\"endlinecolor\":\"#2a3f5f\",\"gridcolor\":\"white\",\"linecolor\":\"white\",\"minorgridcolor\":\"white\",\"startlinecolor\":\"#2a3f5f\"},\"baxis\":{\"endlinecolor\":\"#2a3f5f\",\"gridcolor\":\"white\",\"linecolor\":\"white\",\"minorgridcolor\":\"white\",\"startlinecolor\":\"#2a3f5f\"},\"type\":\"carpet\"}],\"choropleth\":[{\"colorbar\":{\"outlinewidth\":0,\"ticks\":\"\"},\"type\":\"choropleth\"}],\"contour\":[{\"colorbar\":{\"outlinewidth\":0,\"ticks\":\"\"},\"colorscale\":[[0.0,\"#0d0887\"],[0.1111111111111111,\"#46039f\"],[0.2222222222222222,\"#7201a8\"],[0.3333333333333333,\"#9c179e\"],[0.4444444444444444,\"#bd3786\"],[0.5555555555555556,\"#d8576b\"],[0.6666666666666666,\"#ed7953\"],[0.7777777777777778,\"#fb9f3a\"],[0.8888888888888888,\"#fdca26\"],[1.0,\"#f0f921\"]],\"type\":\"contour\"}],\"contourcarpet\":[{\"colorbar\":{\"outlinewidth\":0,\"ticks\":\"\"},\"type\":\"contourcarpet\"}],\"heatmap\":[{\"colorbar\":{\"outlinewidth\":0,\"ticks\":\"\"},\"colorscale\":[[0.0,\"#0d0887\"],[0.1111111111111111,\"#46039f\"],[0.2222222222222222,\"#7201a8\"],[0.3333333333333333,\"#9c179e\"],[0.4444444444444444,\"#bd3786\"],[0.5555555555555556,\"#d8576b\"],[0.6666666666666666,\"#ed7953\"],[0.7777777777777778,\"#fb9f3a\"],[0.8888888888888888,\"#fdca26\"],[1.0,\"#f0f921\"]],\"type\":\"heatmap\"}],\"heatmapgl\":[{\"colorbar\":{\"outlinewidth\":0,\"ticks\":\"\"},\"colorscale\":[[0.0,\"#0d0887\"],[0.1111111111111111,\"#46039f\"],[0.2222222222222222,\"#7201a8\"],[0.3333333333333333,\"#9c179e\"],[0.4444444444444444,\"#bd3786\"],[0.5555555555555556,\"#d8576b\"],[0.6666666666666666,\"#ed7953\"],[0.7777777777777778,\"#fb9f3a\"],[0.8888888888888888,\"#fdca26\"],[1.0,\"#f0f921\"]],\"type\":\"heatmapgl\"}],\"histogram\":[{\"marker\":{\"pattern\":{\"fillmode\":\"overlay\",\"size\":10,\"solidity\":0.2}},\"type\":\"histogram\"}],\"histogram2d\":[{\"colorbar\":{\"outlinewidth\":0,\"ticks\":\"\"},\"colorscale\":[[0.0,\"#0d0887\"],[0.1111111111111111,\"#46039f\"],[0.2222222222222222,\"#7201a8\"],[0.3333333333333333,\"#9c179e\"],[0.4444444444444444,\"#bd3786\"],[0.5555555555555556,\"#d8576b\"],[0.6666666666666666,\"#ed7953\"],[0.7777777777777778,\"#fb9f3a\"],[0.8888888888888888,\"#fdca26\"],[1.0,\"#f0f921\"]],\"type\":\"histogram2d\"}],\"histogram2dcontour\":[{\"colorbar\":{\"outlinewidth\":0,\"ticks\":\"\"},\"colorscale\":[[0.0,\"#0d0887\"],[0.1111111111111111,\"#46039f\"],[0.2222222222222222,\"#7201a8\"],[0.3333333333333333,\"#9c179e\"],[0.4444444444444444,\"#bd3786\"],[0.5555555555555556,\"#d8576b\"],[0.6666666666666666,\"#ed7953\"],[0.7777777777777778,\"#fb9f3a\"],[0.8888888888888888,\"#fdca26\"],[1.0,\"#f0f921\"]],\"type\":\"histogram2dcontour\"}],\"mesh3d\":[{\"colorbar\":{\"outlinewidth\":0,\"ticks\":\"\"},\"type\":\"mesh3d\"}],\"parcoords\":[{\"line\":{\"colorbar\":{\"outlinewidth\":0,\"ticks\":\"\"}},\"type\":\"parcoords\"}],\"pie\":[{\"automargin\":true,\"type\":\"pie\"}],\"scatter\":[{\"marker\":{\"colorbar\":{\"outlinewidth\":0,\"ticks\":\"\"}},\"type\":\"scatter\"}],\"scatter3d\":[{\"line\":{\"colorbar\":{\"outlinewidth\":0,\"ticks\":\"\"}},\"marker\":{\"colorbar\":{\"outlinewidth\":0,\"ticks\":\"\"}},\"type\":\"scatter3d\"}],\"scattercarpet\":[{\"marker\":{\"colorbar\":{\"outlinewidth\":0,\"ticks\":\"\"}},\"type\":\"scattercarpet\"}],\"scattergeo\":[{\"marker\":{\"colorbar\":{\"outlinewidth\":0,\"ticks\":\"\"}},\"type\":\"scattergeo\"}],\"scattergl\":[{\"marker\":{\"colorbar\":{\"outlinewidth\":0,\"ticks\":\"\"}},\"type\":\"scattergl\"}],\"scattermapbox\":[{\"marker\":{\"colorbar\":{\"outlinewidth\":0,\"ticks\":\"\"}},\"type\":\"scattermapbox\"}],\"scatterpolar\":[{\"marker\":{\"colorbar\":{\"outlinewidth\":0,\"ticks\":\"\"}},\"type\":\"scatterpolar\"}],\"scatterpolargl\":[{\"marker\":{\"colorbar\":{\"outlinewidth\":0,\"ticks\":\"\"}},\"type\":\"scatterpolargl\"}],\"scatterternary\":[{\"marker\":{\"colorbar\":{\"outlinewidth\":0,\"ticks\":\"\"}},\"type\":\"scatterternary\"}],\"surface\":[{\"colorbar\":{\"outlinewidth\":0,\"ticks\":\"\"},\"colorscale\":[[0.0,\"#0d0887\"],[0.1111111111111111,\"#46039f\"],[0.2222222222222222,\"#7201a8\"],[0.3333333333333333,\"#9c179e\"],[0.4444444444444444,\"#bd3786\"],[0.5555555555555556,\"#d8576b\"],[0.6666666666666666,\"#ed7953\"],[0.7777777777777778,\"#fb9f3a\"],[0.8888888888888888,\"#fdca26\"],[1.0,\"#f0f921\"]],\"type\":\"surface\"}],\"table\":[{\"cells\":{\"fill\":{\"color\":\"#EBF0F8\"},\"line\":{\"color\":\"white\"}},\"header\":{\"fill\":{\"color\":\"#C8D4E3\"},\"line\":{\"color\":\"white\"}},\"type\":\"table\"}]},\"layout\":{\"annotationdefaults\":{\"arrowcolor\":\"#2a3f5f\",\"arrowhead\":0,\"arrowwidth\":1},\"autotypenumbers\":\"strict\",\"coloraxis\":{\"colorbar\":{\"outlinewidth\":0,\"ticks\":\"\"}},\"colorscale\":{\"diverging\":[[0,\"#8e0152\"],[0.1,\"#c51b7d\"],[0.2,\"#de77ae\"],[0.3,\"#f1b6da\"],[0.4,\"#fde0ef\"],[0.5,\"#f7f7f7\"],[0.6,\"#e6f5d0\"],[0.7,\"#b8e186\"],[0.8,\"#7fbc41\"],[0.9,\"#4d9221\"],[1,\"#276419\"]],\"sequential\":[[0.0,\"#0d0887\"],[0.1111111111111111,\"#46039f\"],[0.2222222222222222,\"#7201a8\"],[0.3333333333333333,\"#9c179e\"],[0.4444444444444444,\"#bd3786\"],[0.5555555555555556,\"#d8576b\"],[0.6666666666666666,\"#ed7953\"],[0.7777777777777778,\"#fb9f3a\"],[0.8888888888888888,\"#fdca26\"],[1.0,\"#f0f921\"]],\"sequentialminus\":[[0.0,\"#0d0887\"],[0.1111111111111111,\"#46039f\"],[0.2222222222222222,\"#7201a8\"],[0.3333333333333333,\"#9c179e\"],[0.4444444444444444,\"#bd3786\"],[0.5555555555555556,\"#d8576b\"],[0.6666666666666666,\"#ed7953\"],[0.7777777777777778,\"#fb9f3a\"],[0.8888888888888888,\"#fdca26\"],[1.0,\"#f0f921\"]]},\"colorway\":[\"#636efa\",\"#EF553B\",\"#00cc96\",\"#ab63fa\",\"#FFA15A\",\"#19d3f3\",\"#FF6692\",\"#B6E880\",\"#FF97FF\",\"#FECB52\"],\"font\":{\"color\":\"#2a3f5f\"},\"geo\":{\"bgcolor\":\"white\",\"lakecolor\":\"white\",\"landcolor\":\"#E5ECF6\",\"showlakes\":true,\"showland\":true,\"subunitcolor\":\"white\"},\"hoverlabel\":{\"align\":\"left\"},\"hovermode\":\"closest\",\"mapbox\":{\"style\":\"light\"},\"paper_bgcolor\":\"white\",\"plot_bgcolor\":\"#E5ECF6\",\"polar\":{\"angularaxis\":{\"gridcolor\":\"white\",\"linecolor\":\"white\",\"ticks\":\"\"},\"bgcolor\":\"#E5ECF6\",\"radialaxis\":{\"gridcolor\":\"white\",\"linecolor\":\"white\",\"ticks\":\"\"}},\"scene\":{\"xaxis\":{\"backgroundcolor\":\"#E5ECF6\",\"gridcolor\":\"white\",\"gridwidth\":2,\"linecolor\":\"white\",\"showbackground\":true,\"ticks\":\"\",\"zerolinecolor\":\"white\"},\"yaxis\":{\"backgroundcolor\":\"#E5ECF6\",\"gridcolor\":\"white\",\"gridwidth\":2,\"linecolor\":\"white\",\"showbackground\":true,\"ticks\":\"\",\"zerolinecolor\":\"white\"},\"zaxis\":{\"backgroundcolor\":\"#E5ECF6\",\"gridcolor\":\"white\",\"gridwidth\":2,\"linecolor\":\"white\",\"showbackground\":true,\"ticks\":\"\",\"zerolinecolor\":\"white\"}},\"shapedefaults\":{\"line\":{\"color\":\"#2a3f5f\"}},\"ternary\":{\"aaxis\":{\"gridcolor\":\"white\",\"linecolor\":\"white\",\"ticks\":\"\"},\"baxis\":{\"gridcolor\":\"white\",\"linecolor\":\"white\",\"ticks\":\"\"},\"bgcolor\":\"#E5ECF6\",\"caxis\":{\"gridcolor\":\"white\",\"linecolor\":\"white\",\"ticks\":\"\"}},\"title\":{\"x\":0.05},\"xaxis\":{\"automargin\":true,\"gridcolor\":\"white\",\"linecolor\":\"white\",\"ticks\":\"\",\"title\":{\"standoff\":15},\"zerolinecolor\":\"white\",\"zerolinewidth\":2},\"yaxis\":{\"automargin\":true,\"gridcolor\":\"white\",\"linecolor\":\"white\",\"ticks\":\"\",\"title\":{\"standoff\":15},\"zerolinecolor\":\"white\",\"zerolinewidth\":2}}},\"xaxis\":{\"anchor\":\"y\",\"domain\":[0.0,1.0],\"title\":{\"text\":\"year\"}},\"yaxis\":{\"anchor\":\"x\",\"domain\":[0.0,1.0],\"title\":{\"text\":\"rating\"}},\"legend\":{\"tracegroupgap\":0},\"margin\":{\"t\":60}},                        {\"responsive\": true}                    ).then(function(){\n",
              "                            \n",
              "var gd = document.getElementById('340a8c29-0fae-49e8-95d6-0d84437f346f');\n",
              "var x = new MutationObserver(function (mutations, observer) {{\n",
              "        var display = window.getComputedStyle(gd).display;\n",
              "        if (!display || display === 'none') {{\n",
              "            console.log([gd, 'removed!']);\n",
              "            Plotly.purge(gd);\n",
              "            observer.disconnect();\n",
              "        }}\n",
              "}});\n",
              "\n",
              "// Listen for the removal of the full notebook cells\n",
              "var notebookContainer = gd.closest('#notebook-container');\n",
              "if (notebookContainer) {{\n",
              "    x.observe(notebookContainer, {childList: true});\n",
              "}}\n",
              "\n",
              "// Listen for the clearing of the current output cell\n",
              "var outputEl = gd.closest('.output');\n",
              "if (outputEl) {{\n",
              "    x.observe(outputEl, {childList: true});\n",
              "}}\n",
              "\n",
              "                        })                };                            </script>        </div>\n",
              "</body>\n",
              "</html>"
            ]
          },
          "metadata": {}
        }
      ]
    },
    {
      "cell_type": "code",
      "source": [
        "df['rating'].corr(df['duration'])"
      ],
      "metadata": {
        "colab": {
          "base_uri": "https://localhost:8080/"
        },
        "id": "G-0Uzr3PYu2T",
        "outputId": "633d99f8-c56b-410c-f8a9-c428498263d3"
      },
      "execution_count": 54,
      "outputs": [
        {
          "output_type": "execute_result",
          "data": {
            "text/plain": [
              "0.27621805369952346"
            ]
          },
          "metadata": {},
          "execution_count": 54
        }
      ]
    },
    {
      "cell_type": "code",
      "source": [
        "f, ax = plt.subplots(figsize=(10,6))\n",
        "sns.scatterplot(df.rating,df.duration,ax=ax)\n",
        "plt.show()\n",
        "#I want to see if longer duration always results in better rating"
      ],
      "metadata": {
        "colab": {
          "base_uri": "https://localhost:8080/",
          "height": 483
        },
        "id": "isLyjkMqZkqD",
        "outputId": "bcc45918-93b2-4fa3-ec55-37c107f3bdb7"
      },
      "execution_count": 55,
      "outputs": [
        {
          "output_type": "stream",
          "name": "stderr",
          "text": [
            "/usr/local/lib/python3.8/dist-packages/seaborn/_decorators.py:36: FutureWarning:\n",
            "\n",
            "Pass the following variables as keyword args: x, y. From version 0.12, the only valid positional argument will be `data`, and passing other arguments without an explicit keyword will result in an error or misinterpretation.\n",
            "\n"
          ]
        },
        {
          "output_type": "display_data",
          "data": {
            "text/plain": [
              "<Figure size 720x432 with 1 Axes>"
            ],
            "image/png": "[encoded data removed]"
          },
          "metadata": {}
        }
      ]
    },
    {
      "cell_type": "code",
      "source": [
        "plt.figure(figsize=(14,14))\n",
        "certification = df['certification']\n",
        "y = df['duration']\n",
        "plt.bar(certification,y)\n",
        "plt.show()"
      ],
      "metadata": {
        "colab": {
          "base_uri": "https://localhost:8080/",
          "height": 811
        },
        "id": "UVkqyP104w-N",
        "outputId": "4fa43f1b-353d-4485-89c0-57100005e94a"
      },
      "execution_count": 56,
      "outputs": [
        {
          "output_type": "display_data",
          "data": {
            "text/plain": [
              "<Figure size 1008x1008 with 1 Axes>"
            ],
            "image/png": "[encoded data removed]"
          },
          "metadata": {}
        }
      ]
    }
  ]
}